{
 "cells": [
  {
   "cell_type": "code",
   "execution_count": 1,
   "metadata": {},
   "outputs": [
    {
     "name": "stderr",
     "output_type": "stream",
     "text": [
      "/usr/local/lib/python3.6/site-packages/requests/__init__.py:91: RequestsDependencyWarning: urllib3 (1.25.9) or chardet (3.0.4) doesn't match a supported version!\n",
      "  RequestsDependencyWarning)\n"
     ]
    }
   ],
   "source": [
    "# import spaCy??\n",
    "# https://spacy.io/\n",
    "import io\n",
    "import json\n",
    "import spacy\n",
    "import numpy as np\n",
    "from sklearn.ensemble import RandomForestClassifier, RandomForestRegressor\n",
    "from sklearn.metrics import accuracy_score\n",
    "from sklearn.neural_network import MLPClassifier"
   ]
  },
  {
   "cell_type": "markdown",
   "metadata": {},
   "source": [
    "# 1. Functions"
   ]
  },
  {
   "cell_type": "code",
   "execution_count": 2,
   "metadata": {},
   "outputs": [],
   "source": [
    "def load_vectors(fname):\n",
    "    fin = io.open(fname, 'r', encoding='utf-8', newline='\\n', errors='ignore')\n",
    "    n, d = map(int, fin.readline().split())\n",
    "    data = {}\n",
    "    cnt = 0\n",
    "    for line in fin:\n",
    "        cnt += 1\n",
    "        if cnt % 100000 == 0:\n",
    "            print(cnt)\n",
    "        tokens = line.rstrip().split(' ')\n",
    "        data[tokens[0]] = list(map(float, tokens[1:]))\n",
    "    return data"
   ]
  },
  {
   "cell_type": "code",
   "execution_count": 3,
   "metadata": {},
   "outputs": [],
   "source": [
    "def load_questions(fname):\n",
    "    with open(fname) as f:\n",
    "        questions_list = f.readlines()\n",
    "\n",
    "    filtered_questions_list = []\n",
    "    for question in questions_list:\n",
    "        question_json = json.loads(question)\n",
    "        question_json.pop('question1')\n",
    "        question_json.pop('question2')\n",
    "        filtered_questions_list.append(question_json)\n",
    "            \n",
    "    return filtered_questions_list"
   ]
  },
  {
   "cell_type": "code",
   "execution_count": 4,
   "metadata": {},
   "outputs": [],
   "source": [
    "def load_tables(part_file_name):\n",
    "    with open('../WikiSQL/data/'+part_file_name+'.tables.jsonl') as f:\n",
    "        tables_list = f.readlines()\n",
    "        \n",
    "    tables = {}\n",
    "    for table in tables_list:\n",
    "        table_json = json.loads(table)\n",
    "        tables[table_json['id']] = table_json\n",
    "    return tables"
   ]
  },
  {
   "cell_type": "code",
   "execution_count": 5,
   "metadata": {},
   "outputs": [],
   "source": [
    "def sentence_embedding(sentence, spacy_model, fastText_model):\n",
    "    # weight more on nouns that are not stop words\n",
    "    embed_dim = 300\n",
    "    noun_amplify = 3\n",
    "    doc = nlp(sentence)\n",
    "    embed_res = np.zeros((embed_dim,))\n",
    "    doc_len = len(doc)\n",
    "    noun_cnt = 0\n",
    "    for token in doc:\n",
    "        if token.lemma_ in fastText_model:\n",
    "            if token.pos_ == 'NOUN' and token.is_stop == False:\n",
    "                embed_res += noun_amplify*np.array(fastText_model[token.lemma_])\n",
    "                noun_cnt += 1\n",
    "            else:\n",
    "                embed_res += np.array(fastText_model[token.lemma_])\n",
    "        else:\n",
    "            embed_res += np.zeros((embed_dim,))\n",
    "#         print(fastText_model[token.lemma_][-1], embed_res[-1])\n",
    "    embed_res = np.array(embed_res)/(doc_len+(noun_amplify-1)*noun_cnt)\n",
    "    return embed_res"
   ]
  },
  {
   "cell_type": "code",
   "execution_count": 6,
   "metadata": {},
   "outputs": [],
   "source": [
    "def headers_embedding(headers, spacy_model, fastText_model):\n",
    "    embed_dim = 300\n",
    "    header_embedding = np.empty((0, embed_dim))\n",
    "    for col_name in headers:\n",
    "        col_embed = sentence_embedding(col_name, spacy_model, fastText_model)\n",
    "        header_embedding = np.vstack((header_embedding, col_embed))\n",
    "    return header_embedding"
   ]
  },
  {
   "cell_type": "code",
   "execution_count": 7,
   "metadata": {},
   "outputs": [],
   "source": [
    "def question_Xy(question_embedding, header_embedding, sel_ind, conds_ind):\n",
    "    question_embed = 600\n",
    "    question_X = np.empty((0, question_embed))\n",
    "    question_y = np.empty((0,1))\n",
    "    for header_ind in range(len(header_embedding)):\n",
    "        question_X = np.vstack((question_X, np.concatenate((question_embedding, header_embedding[header_ind]))))\n",
    "        if header_ind == sel_ind or header_ind == conds_ind:\n",
    "            question_y = np.vstack((question_y, np.array(1)))\n",
    "        else:\n",
    "            question_y = np.vstack((question_y, np.array(0)))\n",
    "    return question_X, question_y"
   ]
  },
  {
   "cell_type": "code",
   "execution_count": 8,
   "metadata": {},
   "outputs": [],
   "source": [
    "def obtain_Xy(question_list, table_dict, spacy_model, fastText_model):\n",
    "    question_embed = 600\n",
    "    aggreation_embed = 300\n",
    "    question_Xs = np.empty((0, question_embed))\n",
    "    question_ys = np.empty((0,1))\n",
    "    aggreation_Xs = np.empty((0, aggreation_embed))\n",
    "    aggregation_ys = np.empty((0,1))\n",
    "    for question in question_list:\n",
    "        question_embedding = sentence_embedding(question['question'], spacy_model, fastText_model)\n",
    "        header_embedding = headers_embedding(table_dict[question['table_id']]['header'], spacy_model, \\\n",
    "                                           fastText_model)\n",
    "        \n",
    "        question_X, question_y = question_Xy(question_embedding, header_embedding, question['sql']['sel'], \\\n",
    "                                                  question['sql']['conds'][0][0])\n",
    "        question_Xs = np.vstack((question_Xs, question_X))\n",
    "        question_ys = np.vstack((question_ys, question_y))\n",
    "        \n",
    "        aggreation_Xs = np.vstack((aggreation_Xs, question_embedding))\n",
    "        if question['sql']['agg'] == 5:\n",
    "            agg = 0\n",
    "        else:\n",
    "            agg = 1\n",
    "        aggregation_ys = np.vstack((aggregation_ys, np.array(agg)))\n",
    "        \n",
    "    return question_Xs, question_ys, aggreation_Xs, aggregation_ys"
   ]
  },
  {
   "cell_type": "code",
   "execution_count": 9,
   "metadata": {},
   "outputs": [],
   "source": [
    "# https://datascience.stackexchange.com/questions/48796/how-to-feed-lstm-with-different-input-array-sizes"
   ]
  },
  {
   "cell_type": "code",
   "execution_count": 10,
   "metadata": {},
   "outputs": [
    {
     "name": "stderr",
     "output_type": "stream",
     "text": [
      "Using TensorFlow backend.\n"
     ]
    }
   ],
   "source": [
    "from keras.preprocessing import sequence\n",
    "from keras.models import Sequential\n",
    "from keras.layers import Dense, Embedding\n",
    "from keras.layers import LSTM, Bidirectional\n",
    "from keras.utils import Sequence\n"
   ]
  },
  {
   "cell_type": "code",
   "execution_count": 11,
   "metadata": {},
   "outputs": [],
   "source": [
    "class MyBatchGenerator(Sequence):\n",
    "    'Generates data for Keras'\n",
    "    def __init__(self, X, y, batch_size=1, shuffle=True):\n",
    "        'Initialization'\n",
    "        self.X = X\n",
    "        self.y = y\n",
    "        self.batch_size = batch_size\n",
    "        self.shuffle = shuffle\n",
    "        self.on_epoch_end()\n",
    "\n",
    "    def __len__(self):\n",
    "        'Denotes the number of batches per epoch'\n",
    "        return int(np.floor(len(self.y)/self.batch_size))\n",
    "\n",
    "    def __getitem__(self, index):\n",
    "        return self.__data_generation(index)\n",
    "\n",
    "    def on_epoch_end(self):\n",
    "        'Shuffles indexes after each epoch'\n",
    "        self.indexes = np.arange(len(self.y))\n",
    "        if self.shuffle == True:\n",
    "            np.random.shuffle(self.indexes)\n",
    "\n",
    "    def __data_generation(self, index):\n",
    "        Xb = np.empty((self.batch_size, *self.X[index].shape))\n",
    "        yb = np.empty((self.batch_size, *self.y[index].shape))\n",
    "        # naively use the same sample over and over again\n",
    "        for s in range(0, self.batch_size):\n",
    "            Xb[s] = self.X[index]\n",
    "            yb[s] = self.y[index]\n",
    "        return Xb, yb"
   ]
  },
  {
   "cell_type": "markdown",
   "metadata": {},
   "source": [
    "# 2. Load Prepared Data for LSTM"
   ]
  },
  {
   "cell_type": "code",
   "execution_count": 12,
   "metadata": {},
   "outputs": [],
   "source": [
    "column_train_X, column_train_y, agg_train_X, agg_train_y = np.load('train.npy', allow_pickle=True)\n",
    "column_test_X, column_test_y, agg_test_X, agg_test_y = np.load('test.npy', allow_pickle=True)\n",
    "train_lstm_X, train_lstm_y = np.load('train_lstm.npy', allow_pickle=True)\n",
    "test_lstm_X, test_lstm_y = np.load('test_lstm.npy', allow_pickle=True)\n",
    "train_lstm2_X, train_lstm2_y = np.load('train_lstm2.npy', allow_pickle=True)\n",
    "test_lstm2_X, test_lstm2_y = np.load('test_lstm2.npy', allow_pickle=True)\n",
    "X_train_agg_lstm, y_train_agg_lstm = np.load('train_agg_lstm.npy', allow_pickle=True)\n",
    "X_test_agg_lstm, y_test_agg_lstm = np.load('test_agg_lstm.npy', allow_pickle=True)"
   ]
  },
  {
   "cell_type": "code",
   "execution_count": 13,
   "metadata": {},
   "outputs": [],
   "source": [
    "train_lstm_X_list = []\n",
    "train_lstm_y_list = []\n",
    "for sample,label in zip(train_lstm_X, train_lstm_y):\n",
    "    train_lstm_X_list += list(sample)\n",
    "    train_lstm_y_list += list(label)\n",
    "    \n",
    "train_lstm_X_list = np.array(train_lstm_X_list)\n",
    "train_lstm_y_list = np.array(train_lstm_y_list)"
   ]
  },
  {
   "cell_type": "code",
   "execution_count": 14,
   "metadata": {},
   "outputs": [],
   "source": [
    "test_lstm_X_list = []\n",
    "test_lstm_y_list = []\n",
    "for sample,label in zip(test_lstm_X, test_lstm_y):\n",
    "    test_lstm_X_list += list(sample)\n",
    "    test_lstm_y_list += list(label)\n",
    "    \n",
    "test_lstm_X_list = np.array(test_lstm_X_list)\n",
    "test_lstm_y_list = np.array(test_lstm_y_list)"
   ]
  },
  {
   "cell_type": "code",
   "execution_count": 15,
   "metadata": {},
   "outputs": [],
   "source": [
    "train_lstm2_X_list = []\n",
    "train_lstm2_y_list = []\n",
    "for sample,label in zip(train_lstm2_X, train_lstm2_y):\n",
    "    train_lstm2_X_list += list(sample)\n",
    "    train_lstm2_y_list += list(label)\n",
    "    \n",
    "train_lstm2_X_list = np.array(train_lstm2_X_list)\n",
    "train_lstm2_y_list = np.array(train_lstm2_y_list)"
   ]
  },
  {
   "cell_type": "code",
   "execution_count": 16,
   "metadata": {},
   "outputs": [],
   "source": [
    "test_lstm2_X_list = []\n",
    "test_lstm2_y_list = []\n",
    "for sample,label in zip(test_lstm2_X, test_lstm2_y):\n",
    "    test_lstm2_X_list += list(sample)\n",
    "    test_lstm2_y_list += list(label)\n",
    "    \n",
    "test_lstm2_X_list = np.array(test_lstm2_X_list)\n",
    "test_lstm2_y_list = np.array(test_lstm2_y_list)"
   ]
  },
  {
   "cell_type": "markdown",
   "metadata": {},
   "source": [
    "# 3. Padding Data to Make Each Sample Have the Same Length"
   ]
  },
  {
   "cell_type": "code",
   "execution_count": 17,
   "metadata": {},
   "outputs": [
    {
     "name": "stdout",
     "output_type": "stream",
     "text": [
      "(2135, 23, 300) (187, 23, 300)\n"
     ]
    }
   ],
   "source": [
    "X_train_padded = sequence.pad_sequences(train_lstm_X_list, padding='post')\n",
    "X_test_padded = sequence.pad_sequences(test_lstm_X_list, padding='post')\n",
    "print(X_train_padded.shape, X_test_padded.shape)"
   ]
  },
  {
   "cell_type": "code",
   "execution_count": 18,
   "metadata": {},
   "outputs": [
    {
     "name": "stdout",
     "output_type": "stream",
     "text": [
      "(2135, 27, 300) (187, 28, 300)\n"
     ]
    }
   ],
   "source": [
    "X_train2_padded = sequence.pad_sequences(train_lstm2_X_list, padding='post')\n",
    "X_test2_padded = sequence.pad_sequences(test_lstm2_X_list, padding='post')\n",
    "print(X_train2_padded.shape, X_test2_padded.shape)"
   ]
  },
  {
   "cell_type": "code",
   "execution_count": 19,
   "metadata": {},
   "outputs": [
    {
     "name": "stdout",
     "output_type": "stream",
     "text": [
      "(320, 20, 300) (30, 20, 300)\n"
     ]
    }
   ],
   "source": [
    "X_train_agg_padded = sequence.pad_sequences(X_train_agg_lstm, padding='post')\n",
    "X_test_agg_padded = sequence.pad_sequences(X_test_agg_lstm, padding='post')\n",
    "print(X_train_agg_padded.shape, X_test_agg_padded.shape)"
   ]
  },
  {
   "cell_type": "code",
   "execution_count": 20,
   "metadata": {},
   "outputs": [
    {
     "data": {
      "text/plain": [
       "(2135, 23, 300)"
      ]
     },
     "execution_count": 20,
     "metadata": {},
     "output_type": "execute_result"
    }
   ],
   "source": [
    "sequence.pad_sequences(train_lstm_X_list, padding='post').shape"
   ]
  },
  {
   "cell_type": "markdown",
   "metadata": {},
   "source": [
    "# 4. Column Selection Prediction"
   ]
  },
  {
   "cell_type": "markdown",
   "metadata": {},
   "source": [
    "## LSTM"
   ]
  },
  {
   "cell_type": "code",
   "execution_count": 22,
   "metadata": {},
   "outputs": [
    {
     "name": "stdout",
     "output_type": "stream",
     "text": [
      "Epoch 1/2\n",
      "2135/2135 [==============================] - 4s 2ms/step - loss: 0.6237 - accuracy: 0.6932\n",
      "Epoch 2/2\n",
      "2135/2135 [==============================] - 4s 2ms/step - loss: 0.6162 - accuracy: 0.7002\n",
      "Model: \"sequential_1\"\n",
      "_________________________________________________________________\n",
      "Layer (type)                 Output Shape              Param #   \n",
      "=================================================================\n",
      "lstm_1 (LSTM)                (None, 23, 256)           570368    \n",
      "_________________________________________________________________\n",
      "lstm_2 (LSTM)                (None, 23, 128)           197120    \n",
      "_________________________________________________________________\n",
      "lstm_3 (LSTM)                (None, 64)                49408     \n",
      "_________________________________________________________________\n",
      "dense_1 (Dense)              (None, 1)                 65        \n",
      "=================================================================\n",
      "Total params: 816,961\n",
      "Trainable params: 816,961\n",
      "Non-trainable params: 0\n",
      "_________________________________________________________________\n",
      "187/187 [==============================] - 0s 1ms/step\n",
      "Test score: 0.6312216762552925\n",
      "Test accuracy: 0.6791443824768066\n"
     ]
    }
   ],
   "source": [
    "batch_size = 32\n",
    "model = Sequential()\n",
    "model.add(LSTM(256, return_sequences=True, dropout=0, recurrent_dropout=0))\n",
    "model.add(LSTM(128, return_sequences=True, dropout=0, recurrent_dropout=0))\n",
    "model.add(LSTM(64, dropout=0, recurrent_dropout=0))\n",
    "model.add(Dense(1, activation='sigmoid'))\n",
    "\n",
    "model.compile(loss='binary_crossentropy',\n",
    "              optimizer='adam',\n",
    "              metrics=['accuracy'])\n",
    "model.fit(X_train_padded, train_lstm_y_list, batch_size=32,\n",
    "          epochs=2)\n",
    "\n",
    "model.summary()\n",
    "\n",
    "score, acc = model.evaluate(X_test_padded, test_lstm_y_list,\n",
    "                            batch_size=batch_size)\n",
    "print('Test score:', score)\n",
    "print('Test accuracy:', acc)"
   ]
  },
  {
   "cell_type": "markdown",
   "metadata": {},
   "source": [
    "## Bidirectional LSTM"
   ]
  },
  {
   "cell_type": "code",
   "execution_count": 23,
   "metadata": {},
   "outputs": [
    {
     "name": "stdout",
     "output_type": "stream",
     "text": [
      "Epoch 1/2\n",
      "2135/2135 [==============================] - 9s 4ms/step - loss: 0.6187 - accuracy: 0.7002\n",
      "Epoch 2/2\n",
      "2135/2135 [==============================] - 7s 3ms/step - loss: 0.6179 - accuracy: 0.7002\n",
      "187/187 [==============================] - 0s 3ms/step\n",
      "Test score: 0.641189912742472\n",
      "Test accuracy: 0.6791443824768066\n"
     ]
    }
   ],
   "source": [
    "model = Sequential()\n",
    "model.add(Bidirectional(LSTM(256, return_sequences=True, dropout=0, recurrent_dropout=0)))\n",
    "model.add(Bidirectional(LSTM(128, return_sequences=True, dropout=0, recurrent_dropout=0)))\n",
    "model.add(Bidirectional(LSTM(64, dropout=0, recurrent_dropout=0)))\n",
    "model.add(Dense(1, activation='sigmoid'))\n",
    "model.compile(loss='binary_crossentropy',\n",
    "              optimizer='adam',\n",
    "              metrics=['accuracy'])\n",
    "model.fit(X_train_padded, train_lstm_y_list, batch_size=32,\n",
    "          epochs=2)\n",
    "\n",
    "score, acc = model.evaluate(X_test_padded, column_test_y,\n",
    "                            batch_size=batch_size)\n",
    "print('Test score:', score)\n",
    "print('Test accuracy:', acc)"
   ]
  },
  {
   "cell_type": "markdown",
   "metadata": {},
   "source": [
    "# 5. Aggregation Method prediction"
   ]
  },
  {
   "cell_type": "markdown",
   "metadata": {},
   "source": [
    "## LSTM"
   ]
  },
  {
   "cell_type": "code",
   "execution_count": 26,
   "metadata": {},
   "outputs": [
    {
     "name": "stdout",
     "output_type": "stream",
     "text": [
      "Epoch 1/5\n",
      "320/320 [==============================] - 1s 5ms/step - loss: 0.6809 - accuracy: 0.5813\n",
      "Epoch 2/5\n",
      "320/320 [==============================] - 1s 2ms/step - loss: 0.6829 - accuracy: 0.5938\n",
      "Epoch 3/5\n",
      "320/320 [==============================] - 1s 2ms/step - loss: 0.6763 - accuracy: 0.5938\n",
      "Epoch 4/5\n",
      "320/320 [==============================] - 1s 2ms/step - loss: 0.6774 - accuracy: 0.5938\n",
      "Epoch 5/5\n",
      "320/320 [==============================] - 1s 2ms/step - loss: 0.6774 - accuracy: 0.5938\n",
      "320/320 [==============================] - 0s 973us/step\n",
      "Test score: 0.6759211480617523\n",
      "Test accuracy: 0.59375\n"
     ]
    }
   ],
   "source": [
    "model = Sequential()\n",
    "model.add(LSTM(256, return_sequences=True, dropout=0, recurrent_dropout=0))\n",
    "model.add(LSTM(128, return_sequences=True, dropout=0, recurrent_dropout=0))\n",
    "model.add(LSTM(64, dropout=0, recurrent_dropout=0))\n",
    "model.add(Dense(1, activation='sigmoid'))\n",
    "model.compile(loss='binary_crossentropy',\n",
    "              optimizer='adam',\n",
    "              metrics=['accuracy'])\n",
    "model.fit(X_train_agg_padded, y_train_agg_lstm, batch_size=16,\n",
    "          epochs=5)\n",
    "\n",
    "score, acc = model.evaluate(X_train_agg_padded, y_train_agg_lstm,\n",
    "                            batch_size=batch_size)\n",
    "print('Test score:', score)\n",
    "print('Test accuracy:', acc)"
   ]
  },
  {
   "cell_type": "markdown",
   "metadata": {},
   "source": [
    "## Bidirectional LSTM"
   ]
  },
  {
   "cell_type": "code",
   "execution_count": 27,
   "metadata": {},
   "outputs": [
    {
     "name": "stdout",
     "output_type": "stream",
     "text": [
      "Epoch 1/2\n",
      "320/320 [==============================] - 3s 9ms/step - loss: 0.6915 - accuracy: 0.5688\n",
      "Epoch 2/2\n",
      "320/320 [==============================] - 1s 4ms/step - loss: 0.6806 - accuracy: 0.5938\n",
      "30/30 [==============================] - 0s 10ms/step\n",
      "Test score: 0.6183054447174072\n",
      "Test accuracy: 0.8666666746139526\n"
     ]
    }
   ],
   "source": [
    "model = Sequential()\n",
    "model.add(Bidirectional(LSTM(256, return_sequences=True, dropout=0, recurrent_dropout=0)))\n",
    "model.add(Bidirectional(LSTM(128, return_sequences=True, dropout=0, recurrent_dropout=0)))\n",
    "model.add(Bidirectional(LSTM(64, dropout=0, recurrent_dropout=0)))\n",
    "model.add(Dense(1, activation='sigmoid'))\n",
    "model.compile(loss='binary_crossentropy',\n",
    "              optimizer='adam',\n",
    "              metrics=['accuracy'])\n",
    "model.fit(X_train_agg_padded, y_train_agg_lstm, batch_size=32,\n",
    "          epochs=2)\n",
    "\n",
    "score, acc = model.evaluate(X_test_agg_padded, y_test_agg_lstm,\n",
    "                            batch_size=batch_size)\n",
    "print('Test score:', score)\n",
    "print('Test accuracy:', acc)"
   ]
  },
  {
   "cell_type": "code",
   "execution_count": null,
   "metadata": {},
   "outputs": [],
   "source": []
  }
 ],
 "metadata": {
  "kernelspec": {
   "display_name": "Python 3",
   "language": "python",
   "name": "python3"
  },
  "language_info": {
   "codemirror_mode": {
    "name": "ipython",
    "version": 3
   },
   "file_extension": ".py",
   "mimetype": "text/x-python",
   "name": "python",
   "nbconvert_exporter": "python",
   "pygments_lexer": "ipython3",
   "version": "3.6.5"
  }
 },
 "nbformat": 4,
 "nbformat_minor": 2
}
