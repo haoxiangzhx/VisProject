{
 "cells": [
  {
   "cell_type": "code",
   "execution_count": 2,
   "metadata": {},
   "outputs": [],
   "source": [
    "import cherrypy"
   ]
  },
  {
   "cell_type": "code",
   "execution_count": 9,
   "metadata": {},
   "outputs": [
    {
     "name": "stderr",
     "output_type": "stream",
     "text": [
      "[05/May/2020:18:30:26] ENGINE Listening for SIGTERM.\n",
      "[05/May/2020:18:30:26] ENGINE Listening for SIGHUP.\n",
      "[05/May/2020:18:30:26] ENGINE Listening for SIGUSR1.\n",
      "[05/May/2020:18:30:26] ENGINE Bus STARTING\n",
      "CherryPy Checker:\n",
      "The Application mounted at '' has an empty config.\n",
      "\n",
      "[05/May/2020:18:30:26] ENGINE Started monitor thread 'Autoreloader'.\n",
      "[05/May/2020:18:30:26] ENGINE Serving on http://127.0.0.1:8080\n",
      "[05/May/2020:18:30:26] ENGINE Bus STARTED\n",
      "[05/May/2020:18:30:27] HTTP \n",
      "Traceback (most recent call last):\n",
      "  File \"/usr/local/lib/python3.6/site-packages/cherrypy/_cprequest.py\", line 638, in respond\n",
      "    self._do_respond(path_info)\n",
      "  File \"/usr/local/lib/python3.6/site-packages/cherrypy/_cprequest.py\", line 697, in _do_respond\n",
      "    response.body = self.handler()\n",
      "  File \"/usr/local/lib/python3.6/site-packages/cherrypy/lib/encoding.py\", line 219, in __call__\n",
      "    self.body = self.oldhandler(*args, **kwargs)\n",
      "  File \"/usr/local/lib/python3.6/site-packages/cherrypy/_cpdispatch.py\", line 54, in __call__\n",
      "    return self.callable(*self.args, **self.kwargs)\n",
      "  File \"<ipython-input-9-5258623ca329>\", line 8, in generate\n",
      "    return ''.join(random.sample(string.hexdigits, int(length)))\n",
      "NameError: name 'random' is not defined\n",
      "[05/May/2020:18:30:27] HTTP \n",
      "Request Headers:\n",
      "  Remote-Addr: 127.0.0.1\n",
      "  HOST: localhost:8080\n",
      "  CONNECTION: keep-alive\n",
      "  CACHE-CONTROL: max-age=0\n",
      "  DNT: 1\n",
      "  UPGRADE-INSECURE-REQUESTS: 1\n",
      "  USER-AGENT: Mozilla/5.0 (Macintosh; Intel Mac OS X 10_15_3) AppleWebKit/537.36 (KHTML, like Gecko) Chrome/81.0.4044.129 Safari/537.36\n",
      "  ACCEPT: text/html,application/xhtml+xml,application/xml;q=0.9,image/webp,image/apng,*/*;q=0.8,application/signed-exchange;v=b3;q=0.9\n",
      "  SEC-FETCH-SITE: none\n",
      "  SEC-FETCH-MODE: navigate\n",
      "  SEC-FETCH-USER: ?1\n",
      "  SEC-FETCH-DEST: document\n",
      "  ACCEPT-ENCODING: gzip, deflate, br\n",
      "  ACCEPT-LANGUAGE: en-US,en;q=0.9,zh-CN;q=0.8,zh;q=0.7\n",
      "  COOKIE: _xsrf=2|526c6248|299d95afb71139213972dd326e4e111c|1586871856; username-localhost-8888=\"2|1:0|10:1586871988|23:username-localhost-8888|44:M2Y1Yjc0MTMzNmM5NDU2ZjhmZGQ5M2YzY2UyMzQxOWU=|b2308f856156f5874d2d8d478f82a0abcc8733983d28d8d9675c9e23d6571608\"; username-localhost-8000=\"2|1:0|10:1588629116|23:username-localhost-8000|44:MmJmODRmOGZhODAxNGY2YWI1N2EzMTI3MWQ5ZWQ3OTk=|e00b4c98e78227c29505613bc4815d313baf7d4c4d49d65af11e26066c441429\"\n"
     ]
    },
    {
     "name": "stdout",
     "output_type": "stream",
     "text": [
      "127.0.0.1 - - [05/May/2020:18:30:27] \"GET /generate HTTP/1.1\" 500 1579 \"\" \"Mozilla/5.0 (Macintosh; Intel Mac OS X 10_15_3) AppleWebKit/537.36 (KHTML, like Gecko) Chrome/81.0.4044.129 Safari/537.36\"\n",
      "127.0.0.1 - - [05/May/2020:18:30:27] \"GET /favicon.ico HTTP/1.1\" 200 1406 \"http://localhost:8080/generate?\" \"Mozilla/5.0 (Macintosh; Intel Mac OS X 10_15_3) AppleWebKit/537.36 (KHTML, like Gecko) Chrome/81.0.4044.129 Safari/537.36\"\n",
      "127.0.0.1 - - [05/May/2020:18:30:32] \"GET / HTTP/1.1\" 200 14 \"\" \"Mozilla/5.0 (Macintosh; Intel Mac OS X 10_15_3) AppleWebKit/537.36 (KHTML, like Gecko) Chrome/81.0.4044.129 Safari/537.36\"\n",
      "127.0.0.1 - - [05/May/2020:18:30:34] \"GET / HTTP/1.1\" 200 14 \"\" \"Mozilla/5.0 (Macintosh; Intel Mac OS X 10_15_3) AppleWebKit/537.36 (KHTML, like Gecko) Chrome/81.0.4044.129 Safari/537.36\"\n",
      "127.0.0.1 - - [05/May/2020:18:30:34] \"GET /favicon.ico HTTP/1.1\" 200 1406 \"http://localhost:8080/\" \"Mozilla/5.0 (Macintosh; Intel Mac OS X 10_15_3) AppleWebKit/537.36 (KHTML, like Gecko) Chrome/81.0.4044.129 Safari/537.36\"\n",
      "127.0.0.1 - - [05/May/2020:18:30:34] \"GET / HTTP/1.1\" 200 14 \"\" \"Mozilla/5.0 (Macintosh; Intel Mac OS X 10_15_3) AppleWebKit/537.36 (KHTML, like Gecko) Chrome/81.0.4044.129 Safari/537.36\"\n",
      "127.0.0.1 - - [05/May/2020:18:30:34] \"GET /favicon.ico HTTP/1.1\" 200 1406 \"http://localhost:8080/\" \"Mozilla/5.0 (Macintosh; Intel Mac OS X 10_15_3) AppleWebKit/537.36 (KHTML, like Gecko) Chrome/81.0.4044.129 Safari/537.36\"\n",
      "127.0.0.1 - - [05/May/2020:18:30:36] \"GET / HTTP/1.1\" 200 14 \"\" \"Mozilla/5.0 (Macintosh; Intel Mac OS X 10_15_3) AppleWebKit/537.36 (KHTML, like Gecko) Chrome/81.0.4044.129 Safari/537.36\"\n"
     ]
    },
    {
     "name": "stderr",
     "output_type": "stream",
     "text": [
      "[05/May/2020:18:30:45] ENGINE Keyboard Interrupt: shutting down bus\n",
      "[05/May/2020:18:30:45] ENGINE Bus STOPPING\n",
      "[05/May/2020:18:30:45] ENGINE HTTP Server cherrypy._cpwsgi_server.CPWSGIServer(('127.0.0.1', 8080)) shut down\n",
      "[05/May/2020:18:30:45] ENGINE Stopped thread 'Autoreloader'.\n",
      "[05/May/2020:18:30:45] ENGINE Bus STOPPED\n",
      "[05/May/2020:18:30:45] ENGINE Bus EXITING\n",
      "[05/May/2020:18:30:45] ENGINE Bus EXITED\n",
      "[05/May/2020:18:30:45] ENGINE Waiting for child threads to terminate...\n"
     ]
    }
   ],
   "source": [
    "class demoExample:\n",
    "    @cherrypy.expose\n",
    "    def index(self):\n",
    "        return \"Hello World!!!\"\n",
    "    \n",
    "    @cherrypy.expose\n",
    "    def generate(self, length=9):\n",
    "        return ''.join(random.sample(string.hexdigits, int(length)))\n",
    "        \n",
    "cherrypy.quickstart(demoExample())"
   ]
  },
  {
   "cell_type": "code",
   "execution_count": null,
   "metadata": {},
   "outputs": [],
   "source": []
  }
 ],
 "metadata": {
  "kernelspec": {
   "display_name": "Python 3",
   "language": "python",
   "name": "python3"
  },
  "language_info": {
   "codemirror_mode": {
    "name": "ipython",
    "version": 3
   },
   "file_extension": ".py",
   "mimetype": "text/x-python",
   "name": "python",
   "nbconvert_exporter": "python",
   "pygments_lexer": "ipython3",
   "version": "3.6.5"
  }
 },
 "nbformat": 4,
 "nbformat_minor": 2
}
