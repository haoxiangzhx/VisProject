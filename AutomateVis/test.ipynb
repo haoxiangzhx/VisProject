{
 "cells": [
  {
   "cell_type": "code",
   "execution_count": 38,
   "metadata": {},
   "outputs": [],
   "source": [
    "import spacy\n",
    "import nltk"
   ]
  },
  {
   "cell_type": "code",
   "execution_count": 2,
   "metadata": {},
   "outputs": [],
   "source": [
    "nlp = spacy.load(\"en_core_web_sm\")"
   ]
  },
  {
   "cell_type": "code",
   "execution_count": 34,
   "metadata": {},
   "outputs": [
    {
     "data": {
      "text/plain": [
       "['What',\n",
       " 'is',\n",
       " 'amount',\n",
       " 'of',\n",
       " 'countries',\n",
       " 'of',\n",
       " 'different',\n",
       " 'half',\n",
       " 'marathon',\n",
       " '(',\n",
       " 'women',\n",
       " ')']"
      ]
     },
     "execution_count": 34,
     "metadata": {},
     "output_type": "execute_result"
    }
   ],
   "source": [
    "sentence = \"What is amount of countries of different half marathon (women)\"\n",
    "tokens = nltk.word_tokenize(sentence)\n",
    "tokens"
   ]
  },
  {
   "cell_type": "code",
   "execution_count": 35,
   "metadata": {},
   "outputs": [
    {
     "data": {
      "text/plain": [
       "[('What', 'WP'),\n",
       " ('is', 'VBZ'),\n",
       " ('amount', 'NN'),\n",
       " ('of', 'IN'),\n",
       " ('countries', 'NNS'),\n",
       " ('of', 'IN'),\n",
       " ('different', 'JJ'),\n",
       " ('half', 'NN'),\n",
       " ('marathon', 'NN'),\n",
       " ('(', '('),\n",
       " ('women', 'NNS'),\n",
       " (')', ')')]"
      ]
     },
     "execution_count": 35,
     "metadata": {},
     "output_type": "execute_result"
    }
   ],
   "source": [
    "tagged = nltk.pos_tag(tokens)\n",
    "tagged"
   ]
  },
  {
   "cell_type": "code",
   "execution_count": 40,
   "metadata": {},
   "outputs": [
    {
     "name": "stdout",
     "output_type": "stream",
     "text": [
      "(S\n",
      "  What/WP\n",
      "  is/VBZ\n",
      "  amount/NN\n",
      "  of/IN\n",
      "  countries/NNS\n",
      "  of/IN\n",
      "  different/JJ\n",
      "  half/NN\n",
      "  marathon/NN\n",
      "  (/(\n",
      "  women/NNS\n",
      "  )/))\n"
     ]
    }
   ],
   "source": [
    "entities = nltk.chunk.ne_chunk(tagged)\n",
    "print(entities)"
   ]
  },
  {
   "cell_type": "code",
   "execution_count": 44,
   "metadata": {},
   "outputs": [
    {
     "name": "stdout",
     "output_type": "stream",
     "text": [
      "name name VERB True\n",
      "the the DET True\n",
      "average average ADJ False\n",
      "valid valid ADJ False\n",
      "poll poll NOUN False\n",
      "for for ADP True\n",
      "different different ADJ False\n",
      "seats seat NOUN False\n",
      "==============================\n",
      "==============================\n",
      "the average valid poll poll dobj name\n",
      "different seats seats pobj for\n"
     ]
    }
   ],
   "source": [
    "doc = nlp(\"name the average valid poll for different seats\")\n",
    "# doc = nlp(\"What is amount of countries of different half marathon (women)\")\n",
    "\n",
    "for token in doc:\n",
    "    print(token.text, token.lemma_, token.pos_, token.is_stop)\n",
    "\n",
    "print(\"=\"*30)   \n",
    "for ent in doc.ents:\n",
    "    print(ent.text, ent.start_char, sent.end_char, ent.label_)\n",
    "    \n",
    "print(\"=\"*30)    \n",
    "for chunk in doc.noun_chunks:\n",
    "    print(chunk.text, chunk.root.text, chunk.root.dep_,\n",
    "            chunk.root.head.text)"
   ]
  },
  {
   "cell_type": "code",
   "execution_count": 20,
   "metadata": {},
   "outputs": [
    {
     "ename": "AttributeError",
     "evalue": "'spacy.tokens.doc.Doc' object has no attribute 'root'",
     "output_type": "error",
     "traceback": [
      "\u001b[0;31m---------------------------------------------------------------------------\u001b[0m",
      "\u001b[0;31mAttributeError\u001b[0m                            Traceback (most recent call last)",
      "\u001b[0;32m<ipython-input-20-d9a7577e1a02>\u001b[0m in \u001b[0;36m<module>\u001b[0;34m()\u001b[0m\n\u001b[0;32m----> 1\u001b[0;31m \u001b[0mdoc\u001b[0m\u001b[0;34m.\u001b[0m\u001b[0mroot\u001b[0m\u001b[0;34m\u001b[0m\u001b[0m\n\u001b[0m",
      "\u001b[0;31mAttributeError\u001b[0m: 'spacy.tokens.doc.Doc' object has no attribute 'root'"
     ]
    }
   ],
   "source": [
    "doc.root"
   ]
  },
  {
   "cell_type": "code",
   "execution_count": null,
   "metadata": {},
   "outputs": [],
   "source": []
  }
 ],
 "metadata": {
  "kernelspec": {
   "display_name": "Python 3",
   "language": "python",
   "name": "python3"
  },
  "language_info": {
   "codemirror_mode": {
    "name": "ipython",
    "version": 3
   },
   "file_extension": ".py",
   "mimetype": "text/x-python",
   "name": "python",
   "nbconvert_exporter": "python",
   "pygments_lexer": "ipython3",
   "version": "3.6.5"
  }
 },
 "nbformat": 4,
 "nbformat_minor": 2
}
