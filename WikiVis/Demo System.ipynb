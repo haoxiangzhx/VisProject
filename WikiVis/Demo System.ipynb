{
 "cells": [
  {
   "cell_type": "code",
   "execution_count": 1,
   "metadata": {},
   "outputs": [
    {
     "name": "stderr",
     "output_type": "stream",
     "text": [
      "/usr/local/lib/python3.6/site-packages/requests/__init__.py:91: RequestsDependencyWarning: urllib3 (1.25.9) or chardet (3.0.4) doesn't match a supported version!\n",
      "  RequestsDependencyWarning)\n"
     ]
    }
   ],
   "source": [
    "import io\n",
    "import json\n",
    "import spacy\n",
    "import numpy as np\n",
    "from sklearn.ensemble import RandomForestClassifier, RandomForestRegressor\n",
    "from sklearn.metrics import accuracy_score\n",
    "from sklearn.neural_network import MLPClassifier"
   ]
  },
  {
   "cell_type": "code",
   "execution_count": 2,
   "metadata": {},
   "outputs": [],
   "source": [
    "def load_vectors(fname):\n",
    "    fin = io.open(fname, 'r', encoding='utf-8', newline='\\n', errors='ignore')\n",
    "    n, d = map(int, fin.readline().split())\n",
    "    data = {}\n",
    "    cnt = 0\n",
    "    for line in fin:\n",
    "        cnt += 1\n",
    "        if cnt % 100000 == 0:\n",
    "            print(cnt)\n",
    "        tokens = line.rstrip().split(' ')\n",
    "        data[tokens[0]] = list(map(float, tokens[1:]))\n",
    "    return data\n",
    "\n",
    "\n",
    "\n",
    "def load_questions(fname):\n",
    "    with open(fname) as f:\n",
    "        questions_list = f.readlines()\n",
    "\n",
    "    filtered_questions_list = []\n",
    "    for question in questions_list:\n",
    "        question_json = json.loads(question)\n",
    "        question_json.pop('question1')\n",
    "        question_json.pop('question2')\n",
    "        filtered_questions_list.append(question_json)\n",
    "            \n",
    "    return filtered_questions_list\n",
    "\n",
    "\n",
    "\n",
    "def load_tables(part_file_name):\n",
    "    with open('./data/'+part_file_name+'.tables.jsonl') as f:\n",
    "        tables_list = f.readlines()\n",
    "        \n",
    "    tables = {}\n",
    "    for table in tables_list:\n",
    "        table_json = json.loads(table)\n",
    "        tables[table_json['id']] = table_json\n",
    "    return tables\n",
    "\n",
    "\n",
    "\n",
    "\n",
    "def sentence_embedding(sentence, spacy_model, fastText_model):\n",
    "    # weight more on nouns that are not stop words\n",
    "    embed_dim = 300\n",
    "    noun_amplify = 1\n",
    "    doc = nlp(sentence)\n",
    "    embed_res = np.zeros((embed_dim,))\n",
    "    doc_len = len(doc)\n",
    "    noun_cnt = 0\n",
    "    for token in doc:\n",
    "        if token.lemma_ in fastText_model:\n",
    "            if token.pos_ == 'NOUN' and token.is_stop == False:\n",
    "                embed_res += noun_amplify*np.array(fastText_model[token.lemma_])\n",
    "                noun_cnt += 1\n",
    "            else:\n",
    "                embed_res += np.array(fastText_model[token.lemma_])\n",
    "        else:\n",
    "            embed_res += np.zeros((embed_dim,))\n",
    "#         print(fastText_model[token.lemma_][-1], embed_res[-1])\n",
    "    embed_res = np.array(embed_res)/(doc_len+(noun_amplify-1)*noun_cnt)\n",
    "    return embed_res\n",
    "\n",
    "\n",
    "\n",
    "\n",
    "def headers_embedding(headers, spacy_model, fastText_model):\n",
    "    embed_dim = 300\n",
    "    header_embedding = np.empty((0, embed_dim))\n",
    "    for col_name in headers:\n",
    "        col_embed = sentence_embedding(col_name, spacy_model, fastText_model)\n",
    "        header_embedding = np.vstack((header_embedding, col_embed))\n",
    "    return header_embedding\n",
    "\n",
    "\n",
    "\n",
    "def question_Xy(question_embedding, header_embedding, sel_ind, conds_ind):\n",
    "    question_embed = 600\n",
    "    question_X = np.empty((0, question_embed))\n",
    "    question_y = np.empty((0,1))\n",
    "    for header_ind in range(len(header_embedding)):\n",
    "        question_X = np.vstack((question_X, np.concatenate((question_embedding, header_embedding[header_ind]))))\n",
    "        if header_ind == sel_ind or header_ind == conds_ind:\n",
    "            question_y = np.vstack((question_y, np.array(1)))\n",
    "        else:\n",
    "            question_y = np.vstack((question_y, np.array(0)))\n",
    "    return question_X, question_y\n",
    "\n",
    "\n",
    "\n",
    "def obtain_Xy(question_list, table_dict, spacy_model, fastText_model):\n",
    "    question_embed = 600\n",
    "    aggreation_embed = 300\n",
    "    question_Xs = np.empty((0, question_embed))\n",
    "    question_ys = np.empty((0,1))\n",
    "    aggreation_Xs = np.empty((0, aggreation_embed))\n",
    "    aggregation_ys = np.empty((0,1))\n",
    "    for question in question_list:\n",
    "        question_embedding = sentence_embedding(question['question'], spacy_model, fastText_model)\n",
    "        header_embedding = headers_embedding(table_dict[question['table_id']]['header'], spacy_model, \\\n",
    "                                           fastText_model)\n",
    "        \n",
    "        question_X, question_y = question_Xy(question_embedding, header_embedding, question['sql']['sel'], \\\n",
    "                                                  question['sql']['conds'][0][0])\n",
    "        question_Xs = np.vstack((question_Xs, question_X))\n",
    "        question_ys = np.vstack((question_ys, question_y))\n",
    "        \n",
    "        aggreation_Xs = np.vstack((aggreation_Xs, question_embedding))\n",
    "        if question['sql']['agg'] == 5:\n",
    "            agg = 0\n",
    "        else:\n",
    "            agg = 1\n",
    "        aggregation_ys = np.vstack((aggregation_ys, np.array(agg)))\n",
    "        \n",
    "    return question_Xs, question_ys, aggreation_Xs, aggregation_ys"
   ]
  },
  {
   "cell_type": "markdown",
   "metadata": {},
   "source": [
    "# 1. Load NLP Models for Embedding"
   ]
  },
  {
   "cell_type": "markdown",
   "metadata": {},
   "source": [
    "### Please downlaod pretrained word embedding model from and save to current folder https://dl.fbaipublicfiles.com/fasttext/vectors-english/wiki-news-300d-1M-subword.vec.zip"
   ]
  },
  {
   "cell_type": "code",
   "execution_count": 3,
   "metadata": {
    "scrolled": true
   },
   "outputs": [
    {
     "name": "stdout",
     "output_type": "stream",
     "text": [
      "100000\n",
      "200000\n",
      "300000\n",
      "400000\n",
      "500000\n",
      "600000\n",
      "700000\n",
      "800000\n",
      "900000\n"
     ]
    }
   ],
   "source": [
    "fastText = load_vectors('wiki-news-300d-1M-subword.vec')"
   ]
  },
  {
   "cell_type": "code",
   "execution_count": 4,
   "metadata": {},
   "outputs": [],
   "source": [
    "nlp = spacy.load(\"en_core_web_sm\")"
   ]
  },
  {
   "cell_type": "markdown",
   "metadata": {},
   "source": [
    "# 2. Load data and Train Prediction Models for the Demo System"
   ]
  },
  {
   "cell_type": "code",
   "execution_count": 5,
   "metadata": {},
   "outputs": [],
   "source": [
    "column_train_X, column_train_y, agg_train_X, agg_train_y = np.load('train.npy', allow_pickle=True)\n",
    "column_test_X, column_test_y, agg_test_X, agg_test_y = np.load('test.npy', allow_pickle=True)\n",
    "train_lstm_X, train_lstm_y = np.load('train_lstm.npy', allow_pickle=True)\n",
    "test_lstm_X, test_lstm_y = np.load('test_lstm.npy', allow_pickle=True)\n",
    "test_np = np.load('test_individual.npy', allow_pickle=True)\n",
    "train_np = np.load('train_individual.npy', allow_pickle=True)"
   ]
  },
  {
   "cell_type": "code",
   "execution_count": 6,
   "metadata": {},
   "outputs": [
    {
     "name": "stderr",
     "output_type": "stream",
     "text": [
      "/usr/local/lib/python3.6/site-packages/ipykernel_launcher.py:2: DataConversionWarning: A column-vector y was passed when a 1d array was expected. Please change the shape of y to (n_samples,), for example using ravel().\n",
      "  \n"
     ]
    },
    {
     "data": {
      "text/plain": [
       "0.9333333333333333"
      ]
     },
     "execution_count": 6,
     "metadata": {},
     "output_type": "execute_result"
    }
   ],
   "source": [
    "agg_clf = RandomForestClassifier()\n",
    "agg_clf.fit(agg_train_X,agg_train_y)\n",
    "agg_y_pred = agg_clf.predict(agg_test_X)\n",
    "accuracy_score(agg_test_y, agg_y_pred)"
   ]
  },
  {
   "cell_type": "code",
   "execution_count": 7,
   "metadata": {
    "scrolled": true
   },
   "outputs": [
    {
     "name": "stderr",
     "output_type": "stream",
     "text": [
      "/usr/local/lib/python3.6/site-packages/ipykernel_launcher.py:2: DataConversionWarning: A column-vector y was passed when a 1d array was expected. Please change the shape of y to (n_samples,), for example using ravel().\n",
      "  \n"
     ]
    },
    {
     "data": {
      "text/plain": [
       "0.839572192513369"
      ]
     },
     "execution_count": 7,
     "metadata": {},
     "output_type": "execute_result"
    }
   ],
   "source": [
    "col_clf = RandomForestClassifier()\n",
    "col_clf.fit(column_train_X, column_train_y)\n",
    "\n",
    "column_y_pred = col_clf.predict(column_test_X)\n",
    "accuracy_score(column_test_y, column_y_pred)"
   ]
  },
  {
   "cell_type": "markdown",
   "metadata": {},
   "source": [
    "# 3. Demo System"
   ]
  },
  {
   "cell_type": "code",
   "execution_count": 8,
   "metadata": {},
   "outputs": [],
   "source": [
    "def table_html(table_js):\n",
    "    title = table_js['page_title']+\": \"+table_js['section_title']\n",
    "    title_html = '<h3>'+title+'<h3>'+'<h4>only show top 10 rows<h4>'\n",
    "    head_html = '<tr><th>'+'</th><th>'.join(table_js['header'])+'</th></tr>'\n",
    "    data_html = ''\n",
    "    for row in table_js['rows'][:10]:\n",
    "        row_html = '<tr><td>'+'</td><td>'.join(row)+'</td></tr>'\n",
    "        data_html += row_html\n",
    "    table_html = title_html + head_html + data_html\n",
    "    return table_html.encode()"
   ]
  },
  {
   "cell_type": "code",
   "execution_count": 9,
   "metadata": {},
   "outputs": [],
   "source": [
    "def data_html(question, table_js):\n",
    "    res_dict = {}\n",
    "    \n",
    "    header = table_js['header']\n",
    "    question_embed = sentence_embedding(question, nlp, fastText)\n",
    "    header_embed = headers_embedding(header, nlp, fastText)\n",
    "    X, _ = question_Xy(question_embed, header_embed, 0, 0)\n",
    "    col = col_clf.predict(X)\n",
    "    agg = agg_clf.predict([question_embed])\n",
    "    \n",
    "    if np.sum(col) != 2.0:\n",
    "        col_ind = np.random.random_integers(col.shape[0], size=(2,))-1\n",
    "    else:\n",
    "        col_ind = np.nonzero(col)[0]\n",
    "        \n",
    "    res_dict[\"$schema\"] = 'https://vega.github.io/schema/vega-lite/v4.json'\n",
    "    print(col, col_ind)\n",
    "        \n",
    "    ind_a = col_ind[0]\n",
    "    ind_b = col_ind[1]\n",
    "    type_a = table_js['types'][ind_a]\n",
    "    type_b = table_js['types'][ind_b]\n",
    "    field_a = header[ind_a]\n",
    "    field_b = header[ind_b]\n",
    "    data_values = []\n",
    "    for row in table_js['rows']:\n",
    "        col_a = row[ind_a]\n",
    "        col_b = row[ind_b]\n",
    "        if type_a == 'real':\n",
    "            col_a = float(col_a)\n",
    "        if type_b == 'real':\n",
    "            col_b = float(col_b)\n",
    "        data_values.append({field_a: col_a, field_b:col_b})\n",
    "\n",
    "    data_ = str(data_values)    \n",
    "    res_dict[\"makr\"] = 'bar'    \n",
    "    if agg == 1:\n",
    "        agg_method = 'sum'\n",
    "    else:\n",
    "        agg_method = 'mean'\n",
    "        \n",
    "        \n",
    "    field_b1 = str({\"field\": field_b, \"type\": 'nominal'})    \n",
    "    field_a1 = str({\"aggregate\": agg_method, \"field\": field_a, \"axis\": {\"title\": field_a} })    \n",
    "    res_str = \"var vlSpec = { $schema: 'https://vega.github.io/schema/vega-lite/v4.json', data: { values:\" \\\n",
    "                +data_+\"},mark: 'bar', encoding: { y:\" +field_a1 + \", x: \" + field_b1+\" } }\"\n",
    "    \n",
    "    field_a2 = str({\"field\": field_a, \"type\": 'nominal'})    \n",
    "    field_b2 = str({\"aggregate\": agg_method, \"field\": field_b, \"axis\": {\"title\": field_b} })    \n",
    "    res_str2 = \"var vlSpec2 = { $schema: 'https://vega.github.io/schema/vega-lite/v4.json', data: { values:\" \\\n",
    "                +data_+\"},mark: 'bar', encoding: { y:\" +field_b2 + \", x: \" + field_a2+\" } }\"\n",
    "    \n",
    "    return res_str+\"\\n\\n\"+res_str2"
   ]
  },
  {
   "cell_type": "code",
   "execution_count": 10,
   "metadata": {},
   "outputs": [],
   "source": [
    "infile1 = open(\"before_table.html\", \"rb\")\n",
    "html_before_table = infile1.read()\n",
    "infile2 = open(\"before_plot.html\", \"rb\")\n",
    "html_before_plot = infile2.read()\n",
    "infile3 = open(\"after_plot.html\", \"rb\")\n",
    "html_after_plot = infile3.read()\n",
    "index_table_byte = \"<h3>Example</h3><tr><th>Firstname</th><th>Lastname</th><th>Age</th></tr>\".encode()"
   ]
  },
  {
   "cell_type": "markdown",
   "metadata": {},
   "source": [
    "### Example 1 for the demo system, the first cell is the table in json format, and the second cell is the question corresponding to the table"
   ]
  },
  {
   "cell_type": "code",
   "execution_count": 11,
   "metadata": {},
   "outputs": [
    {
     "data": {
      "text/plain": [
       "{'header': ['Tournament',\n",
       "  'Wins',\n",
       "  'Top-5',\n",
       "  'Top-10',\n",
       "  'Top-25',\n",
       "  'Events',\n",
       "  'Cuts made'],\n",
       " 'page_title': 'Peter Thomson (golfer)',\n",
       " 'types': ['text', 'real', 'real', 'real', 'real', 'real', 'real'],\n",
       " 'page_id': 1510351,\n",
       " 'id': '2-1510351-5',\n",
       " 'section_title': 'Summary',\n",
       " 'rows': [['Masters Tournament', '0', '1', '1', '5', '8', '6'],\n",
       "  ['U.S. Open', '0', '1', '1', '2', '5', '3'],\n",
       "  ['The Open Championship', '5', '10', '18', '23', '30', '26'],\n",
       "  ['PGA Championship', '0', '0', '0', '0', '0', '0'],\n",
       "  ['Totals', '5', '12', '20', '30', '43', '35']],\n",
       " 'caption': 'Summary'}"
      ]
     },
     "execution_count": 11,
     "metadata": {},
     "output_type": "execute_result"
    }
   ],
   "source": [
    "{\"header\": [\"Tournament\", \"Wins\", \"Top-5\", \"Top-10\", \"Top-25\", \"Events\", \"Cuts made\"], \"page_title\": \"Peter Thomson (golfer)\", \"types\": [\"text\", \"real\", \"real\", \"real\", \"real\", \"real\", \"real\"], \"page_id\": 1510351, \"id\": \"2-1510351-5\", \"section_title\": \"Summary\", \"rows\": [[\"Masters Tournament\", \"0\", \"1\", \"1\", \"5\", \"8\", \"6\"], [\"U.S. Open\", \"0\", \"1\", \"1\", \"2\", \"5\", \"3\"], [\"The Open Championship\", \"5\", \"10\", \"18\", \"23\", \"30\", \"26\"], [\"PGA Championship\", \"0\", \"0\", \"0\", \"0\", \"0\", \"0\"], [\"Totals\", \"5\", \"12\", \"20\", \"30\", \"43\", \"35\"]], \"caption\": \"Summary\"}\n"
   ]
  },
  {
   "cell_type": "code",
   "execution_count": 12,
   "metadata": {},
   "outputs": [
    {
     "ename": "SyntaxError",
     "evalue": "invalid syntax (<ipython-input-12-40969e6b38c0>, line 1)",
     "output_type": "error",
     "traceback": [
      "\u001b[0;36m  File \u001b[0;32m\"<ipython-input-12-40969e6b38c0>\"\u001b[0;36m, line \u001b[0;32m1\u001b[0m\n\u001b[0;31m    Name the average top 25 of different events\u001b[0m\n\u001b[0m           ^\u001b[0m\n\u001b[0;31mSyntaxError\u001b[0m\u001b[0;31m:\u001b[0m invalid syntax\n"
     ]
    }
   ],
   "source": [
    "Name the average top 25 of different events"
   ]
  },
  {
   "cell_type": "markdown",
   "metadata": {},
   "source": [
    "### Example 2 for the demo system, the first cell is the table in json format, and the second cell is the question corresponding to the table"
   ]
  },
  {
   "cell_type": "code",
   "execution_count": 13,
   "metadata": {},
   "outputs": [
    {
     "data": {
      "text/plain": [
       "{'header': ['Rider', 'Bike', 'Laps', 'Time', 'Grid'],\n",
       " 'page_title': '2008 Misano Superbike World Championship round',\n",
       " 'types': ['text', 'text', 'real', 'text', 'real'],\n",
       " 'page_id': 18145978,\n",
       " 'id': '2-18145978-2',\n",
       " 'section_title': 'Superbike race 2 classification',\n",
       " 'rows': [['Ruben Xaus', 'Ducati 1098 RS 08', '24', '39:19.710', '3'],\n",
       "  ['Max Biaggi', 'Ducati 1098 RS 08', '24', '+1.035', '5'],\n",
       "  ['Troy Bayliss', 'Ducati 1098 F08', '24', '+4.158', '2'],\n",
       "  ['Noriyuki Haga', 'Yamaha YZF-R1', '24', '+5.466', '14'],\n",
       "  ['Troy Corser', 'Yamaha YZF-R1', '24', '+6.759', '1'],\n",
       "  ['Lorenzo Lanzi', 'Ducati 1098 RS 08', '24', '+13.468', '6'],\n",
       "  ['Max Neukirchner', 'Suzuki GSX-R1000', '24', '+15.221', '10'],\n",
       "  ['Carlos Checa', 'Honda CBR1000RR', '24', '+16.687', '11'],\n",
       "  ['Jakub Smrz', 'Ducati 1098 RS 08', '24', '+17.030', '7'],\n",
       "  ['Fonsi Nieto', 'Suzuki GSX-R1000', '24', '+17.681', '9'],\n",
       "  ['Michel Fabrizio', 'Ducati 1098 F08', '24', '+21.356', '4'],\n",
       "  ['Yukio Kagayama', 'Suzuki GSX-R1000', '24', '+28.676', '13'],\n",
       "  ['Ryuichi Kiyonari', 'Honda CBR1000RR', '24', '+31.304', '22'],\n",
       "  ['Gregorio Lavilla', 'Honda CBR1000RR', '24', '+32.339', '19'],\n",
       "  ['Shinichi Nakatomi', 'Yamaha YZF-R1', '24', '+33.716', '20'],\n",
       "  ['David Checa', 'Yamaha YZF-R1', '24', '+34.171', '18'],\n",
       "  ['Ayrton Badovini', 'Kawasaki ZX-10R', '24', '+40.638', '16'],\n",
       "  ['Roberto Rolfo', 'Honda CBR1000RR', '24', '+41.136', '17'],\n",
       "  ['Shuhei Aoyama', 'Honda CBR1000RR', '24', '+49.699', '23'],\n",
       "  ['Jason Pridmore', 'Honda CBR1000RR', '23', 'Retirement', '27'],\n",
       "  ['Sébastien Gimbert', 'Yamaha YZF-R1', '14', 'Retirement', '21'],\n",
       "  ['Vittorio Iannuzzo', 'Kawasaki ZX-10R', '8', 'Retirement', '25'],\n",
       "  ['Régis Laconi', 'Kawasaki ZX-10R', '5', 'Retirement', '8'],\n",
       "  ['Makoto Tamada', 'Kawasaki ZX-10R', '2', 'Accident', '12'],\n",
       "  ['Karl Muggeridge', 'Honda CBR1000RR', '2', 'Retirement', '15'],\n",
       "  ['Kenan Sofuoğlu', 'Honda CBR1000RR', '0', 'Accident', '24']],\n",
       " 'caption': 'Superbike race 2 classification'}"
      ]
     },
     "execution_count": 13,
     "metadata": {},
     "output_type": "execute_result"
    }
   ],
   "source": [
    "{\"header\": [\"Rider\", \"Bike\", \"Laps\", \"Time\", \"Grid\"], \"page_title\": \"2008 Misano Superbike World Championship round\", \"types\": [\"text\", \"text\", \"real\", \"text\", \"real\"], \"page_id\": 18145978, \"id\": \"2-18145978-2\", \"section_title\": \"Superbike race 2 classification\", \"rows\": [[\"Ruben Xaus\", \"Ducati 1098 RS 08\", \"24\", \"39:19.710\", \"3\"], [\"Max Biaggi\", \"Ducati 1098 RS 08\", \"24\", \"+1.035\", \"5\"], [\"Troy Bayliss\", \"Ducati 1098 F08\", \"24\", \"+4.158\", \"2\"], [\"Noriyuki Haga\", \"Yamaha YZF-R1\", \"24\", \"+5.466\", \"14\"], [\"Troy Corser\", \"Yamaha YZF-R1\", \"24\", \"+6.759\", \"1\"], [\"Lorenzo Lanzi\", \"Ducati 1098 RS 08\", \"24\", \"+13.468\", \"6\"], [\"Max Neukirchner\", \"Suzuki GSX-R1000\", \"24\", \"+15.221\", \"10\"], [\"Carlos Checa\", \"Honda CBR1000RR\", \"24\", \"+16.687\", \"11\"], [\"Jakub Smrz\", \"Ducati 1098 RS 08\", \"24\", \"+17.030\", \"7\"], [\"Fonsi Nieto\", \"Suzuki GSX-R1000\", \"24\", \"+17.681\", \"9\"], [\"Michel Fabrizio\", \"Ducati 1098 F08\", \"24\", \"+21.356\", \"4\"], [\"Yukio Kagayama\", \"Suzuki GSX-R1000\", \"24\", \"+28.676\", \"13\"], [\"Ryuichi Kiyonari\", \"Honda CBR1000RR\", \"24\", \"+31.304\", \"22\"], [\"Gregorio Lavilla\", \"Honda CBR1000RR\", \"24\", \"+32.339\", \"19\"], [\"Shinichi Nakatomi\", \"Yamaha YZF-R1\", \"24\", \"+33.716\", \"20\"], [\"David Checa\", \"Yamaha YZF-R1\", \"24\", \"+34.171\", \"18\"], [\"Ayrton Badovini\", \"Kawasaki ZX-10R\", \"24\", \"+40.638\", \"16\"], [\"Roberto Rolfo\", \"Honda CBR1000RR\", \"24\", \"+41.136\", \"17\"], [\"Shuhei Aoyama\", \"Honda CBR1000RR\", \"24\", \"+49.699\", \"23\"], [\"Jason Pridmore\", \"Honda CBR1000RR\", \"23\", \"Retirement\", \"27\"], [\"S\\u00e9bastien Gimbert\", \"Yamaha YZF-R1\", \"14\", \"Retirement\", \"21\"], [\"Vittorio Iannuzzo\", \"Kawasaki ZX-10R\", \"8\", \"Retirement\", \"25\"], [\"R\\u00e9gis Laconi\", \"Kawasaki ZX-10R\", \"5\", \"Retirement\", \"8\"], [\"Makoto Tamada\", \"Kawasaki ZX-10R\", \"2\", \"Accident\", \"12\"], [\"Karl Muggeridge\", \"Honda CBR1000RR\", \"2\", \"Retirement\", \"15\"], [\"Kenan Sofuo\\u011flu\", \"Honda CBR1000RR\", \"0\", \"Accident\", \"24\"]], \"caption\": \"Superbike race 2 classification\"}\n"
   ]
  },
  {
   "cell_type": "code",
   "execution_count": 14,
   "metadata": {},
   "outputs": [
    {
     "name": "stdout",
     "output_type": "stream",
     "text": [
      "Object `values` not found.\n"
     ]
    }
   ],
   "source": [
    "What is the total number of Grid, when Laps has different values?"
   ]
  },
  {
   "cell_type": "markdown",
   "metadata": {},
   "source": [
    "## Start the server and visit http://127.0.0.1:8080 !"
   ]
  },
  {
   "cell_type": "code",
   "execution_count": 15,
   "metadata": {
    "scrolled": true
   },
   "outputs": [
    {
     "name": "stderr",
     "output_type": "stream",
     "text": [
      "[15/May/2020:00:17:56] ENGINE Listening for SIGTERM.\n",
      "[15/May/2020:00:17:56] ENGINE Listening for SIGHUP.\n",
      "[15/May/2020:00:17:56] ENGINE Listening for SIGUSR1.\n",
      "[15/May/2020:00:17:56] ENGINE Bus STARTING\n",
      "CherryPy Checker:\n",
      "'/Users/haox/Folder/Study/2020Spring/VisML/VisProject/WikiVis/./public' (root + dir) is not an existing filesystem path.\n",
      "section: [/static]\n",
      "root: '/Users/haox/Folder/Study/2020Spring/VisML/VisProject/WikiVis'\n",
      "dir: './public'\n",
      "\n",
      "[15/May/2020:00:17:56] ENGINE Started monitor thread 'Autoreloader'.\n",
      "[15/May/2020:00:17:56] ENGINE Serving on http://127.0.0.1:8080\n",
      "[15/May/2020:00:17:56] ENGINE Bus STARTED\n"
     ]
    },
    {
     "name": "stdout",
     "output_type": "stream",
     "text": [
      "127.0.0.1 - - [15/May/2020:00:17:56] \"GET /crawls/default/metrics HTTP/1.1\" 404 1386 \"http://localhost:8080/monitoring/default\" \"Mozilla/5.0 (Macintosh; Intel Mac OS X 10_15_3) AppleWebKit/537.36 (KHTML, like Gecko) Chrome/81.0.4044.138 Safari/537.36\"\n",
      "127.0.0.1 - - [15/May/2020:00:17:57] \"GET /crawls/default/metrics HTTP/1.1\" 404 1386 \"http://localhost:8080/monitoring/default\" \"Mozilla/5.0 (Macintosh; Intel Mac OS X 10_15_3) AppleWebKit/537.36 (KHTML, like Gecko) Chrome/81.0.4044.138 Safari/537.36\"\n",
      "127.0.0.1 - - [15/May/2020:00:17:58] \"GET /crawls/default/metrics HTTP/1.1\" 404 1386 \"http://localhost:8080/monitoring/default\" \"Mozilla/5.0 (Macintosh; Intel Mac OS X 10_15_3) AppleWebKit/537.36 (KHTML, like Gecko) Chrome/81.0.4044.138 Safari/537.36\"\n",
      "127.0.0.1 - - [15/May/2020:00:17:59] \"GET /crawls/default/metrics HTTP/1.1\" 404 1386 \"http://localhost:8080/monitoring/default\" \"Mozilla/5.0 (Macintosh; Intel Mac OS X 10_15_3) AppleWebKit/537.36 (KHTML, like Gecko) Chrome/81.0.4044.138 Safari/537.36\"\n",
      "127.0.0.1 - - [15/May/2020:00:17:59] \"GET / HTTP/1.1\" 200 2915 \"http://localhost:8888/notebooks/VisML/VisProject/WikiVis/Demo%20System.ipynb\" \"Mozilla/5.0 (Macintosh; Intel Mac OS X 10_15_3) AppleWebKit/537.36 (KHTML, like Gecko) Chrome/81.0.4044.138 Safari/537.36\"\n",
      "127.0.0.1 - - [15/May/2020:00:18:00] \"GET /crawls/default/metrics HTTP/1.1\" 404 1386 \"http://localhost:8080/monitoring/default\" \"Mozilla/5.0 (Macintosh; Intel Mac OS X 10_15_3) AppleWebKit/537.36 (KHTML, like Gecko) Chrome/81.0.4044.138 Safari/537.36\"\n",
      "127.0.0.1 - - [15/May/2020:00:18:01] \"GET /crawls/default/metrics HTTP/1.1\" 404 1386 \"http://localhost:8080/monitoring/default\" \"Mozilla/5.0 (Macintosh; Intel Mac OS X 10_15_3) AppleWebKit/537.36 (KHTML, like Gecko) Chrome/81.0.4044.138 Safari/537.36\"\n",
      "127.0.0.1 - - [15/May/2020:00:18:02] \"GET /crawls/default/metrics HTTP/1.1\" 404 1386 \"http://localhost:8080/monitoring/default\" \"Mozilla/5.0 (Macintosh; Intel Mac OS X 10_15_3) AppleWebKit/537.36 (KHTML, like Gecko) Chrome/81.0.4044.138 Safari/537.36\"\n",
      "127.0.0.1 - - [15/May/2020:00:18:03] \"GET /crawls/default/metrics HTTP/1.1\" 404 1386 \"http://localhost:8080/monitoring/default\" \"Mozilla/5.0 (Macintosh; Intel Mac OS X 10_15_3) AppleWebKit/537.36 (KHTML, like Gecko) Chrome/81.0.4044.138 Safari/537.36\"\n",
      "127.0.0.1 - - [15/May/2020:00:18:04] \"GET /crawls/default/metrics HTTP/1.1\" 404 1386 \"http://localhost:8080/monitoring/default\" \"Mozilla/5.0 (Macintosh; Intel Mac OS X 10_15_3) AppleWebKit/537.36 (KHTML, like Gecko) Chrome/81.0.4044.138 Safari/537.36\"\n",
      "127.0.0.1 - - [15/May/2020:00:18:05] \"GET /crawls/default/metrics HTTP/1.1\" 404 1386 \"http://localhost:8080/monitoring/default\" \"Mozilla/5.0 (Macintosh; Intel Mac OS X 10_15_3) AppleWebKit/537.36 (KHTML, like Gecko) Chrome/81.0.4044.138 Safari/537.36\"\n",
      "127.0.0.1 - - [15/May/2020:00:18:06] \"GET /crawls/default/metrics HTTP/1.1\" 404 1386 \"http://localhost:8080/monitoring/default\" \"Mozilla/5.0 (Macintosh; Intel Mac OS X 10_15_3) AppleWebKit/537.36 (KHTML, like Gecko) Chrome/81.0.4044.138 Safari/537.36\"\n",
      "127.0.0.1 - - [15/May/2020:00:18:07] \"GET /crawls/default/metrics HTTP/1.1\" 404 1386 \"http://localhost:8080/monitoring/default\" \"Mozilla/5.0 (Macintosh; Intel Mac OS X 10_15_3) AppleWebKit/537.36 (KHTML, like Gecko) Chrome/81.0.4044.138 Safari/537.36\"\n",
      "127.0.0.1 - - [15/May/2020:00:18:07] \"GET /update_table?uploaded_table=%7B%22header%22%3A+%5B%22Tournament%22%2C+%22Wins%22%2C+%22Top-5%22%2C+%22Top-10%22%2C+%22Top-25%22%2C+%22Events%22%2C+%22Cuts+made%22%5D%2C+%22page_title%22%3A+%22Peter+Thomson+%28golfer%29%22%2C+%22types%22%3A+%5B%22text%22%2C+%22real%22%2C+%22real%22%2C+%22real%22%2C+%22real%22%2C+%22real%22%2C+%22real%22%5D%2C+%22page_id%22%3A+1510351%2C+%22id%22%3A+%222-1510351-5%22%2C+%22section_title%22%3A+%22Summary%22%2C+%22rows%22%3A+%5B%5B%22Masters+Tournament%22%2C+%220%22%2C+%221%22%2C+%221%22%2C+%225%22%2C+%228%22%2C+%226%22%5D%2C+%5B%22U.S.+Open%22%2C+%220%22%2C+%221%22%2C+%221%22%2C+%222%22%2C+%225%22%2C+%223%22%5D%2C+%5B%22The+Open+Championship%22%2C+%225%22%2C+%2210%22%2C+%2218%22%2C+%2223%22%2C+%2230%22%2C+%2226%22%5D%2C+%5B%22PGA+Championship%22%2C+%220%22%2C+%220%22%2C+%220%22%2C+%220%22%2C+%220%22%2C+%220%22%5D%2C+%5B%22Totals%22%2C+%225%22%2C+%2212%22%2C+%2220%22%2C+%2230%22%2C+%2243%22%2C+%2235%22%5D%5D%2C+%22caption%22%3A+%22Summary%22%7D%0D%0A HTTP/1.1\" 200 3499 \"http://127.0.0.1:8080/\" \"Mozilla/5.0 (Macintosh; Intel Mac OS X 10_15_3) AppleWebKit/537.36 (KHTML, like Gecko) Chrome/81.0.4044.138 Safari/537.36\"\n",
      "127.0.0.1 - - [15/May/2020:00:18:08] \"GET /crawls/default/metrics HTTP/1.1\" 404 1386 \"http://localhost:8080/monitoring/default\" \"Mozilla/5.0 (Macintosh; Intel Mac OS X 10_15_3) AppleWebKit/537.36 (KHTML, like Gecko) Chrome/81.0.4044.138 Safari/537.36\"\n",
      "127.0.0.1 - - [15/May/2020:00:18:09] \"GET /crawls/default/metrics HTTP/1.1\" 404 1386 \"http://localhost:8080/monitoring/default\" \"Mozilla/5.0 (Macintosh; Intel Mac OS X 10_15_3) AppleWebKit/537.36 (KHTML, like Gecko) Chrome/81.0.4044.138 Safari/537.36\"\n",
      "127.0.0.1 - - [15/May/2020:00:18:10] \"GET /crawls/default/metrics HTTP/1.1\" 404 1386 \"http://localhost:8080/monitoring/default\" \"Mozilla/5.0 (Macintosh; Intel Mac OS X 10_15_3) AppleWebKit/537.36 (KHTML, like Gecko) Chrome/81.0.4044.138 Safari/537.36\"\n",
      "127.0.0.1 - - [15/May/2020:00:18:11] \"GET /crawls/default/metrics HTTP/1.1\" 404 1386 \"http://localhost:8080/monitoring/default\" \"Mozilla/5.0 (Macintosh; Intel Mac OS X 10_15_3) AppleWebKit/537.36 (KHTML, like Gecko) Chrome/81.0.4044.138 Safari/537.36\"\n",
      "127.0.0.1 - - [15/May/2020:00:18:12] \"GET /crawls/default/metrics HTTP/1.1\" 404 1386 \"http://localhost:8080/monitoring/default\" \"Mozilla/5.0 (Macintosh; Intel Mac OS X 10_15_3) AppleWebKit/537.36 (KHTML, like Gecko) Chrome/81.0.4044.138 Safari/537.36\"\n",
      "127.0.0.1 - - [15/May/2020:00:18:13] \"GET /crawls/default/metrics HTTP/1.1\" 404 1386 \"http://localhost:8080/monitoring/default\" \"Mozilla/5.0 (Macintosh; Intel Mac OS X 10_15_3) AppleWebKit/537.36 (KHTML, like Gecko) Chrome/81.0.4044.138 Safari/537.36\"\n",
      "[0. 0. 0. 0. 1. 1. 0.] [4 5]\n",
      "127.0.0.1 - - [15/May/2020:00:18:13] \"GET /update_plot?question=Name+the+average+top+25+of+different+events HTTP/1.1\" 200 4300 \"http://127.0.0.1:8080/update_table?uploaded_table=%7B%22header%22%3A+%5B%22Tournament%22%2C+%22Wins%22%2C+%22Top-5%22%2C+%22Top-10%22%2C+%22Top-25%22%2C+%22Events%22%2C+%22Cuts+made%22%5D%2C+%22page_title%22%3A+%22Peter+Thomson+%28golfer%29%22%2C+%22types%22%3A+%5B%22text%22%2C+%22real%22%2C+%22real%22%2C+%22real%22%2C+%22real%22%2C+%22real%22%2C+%22real%22%5D%2C+%22page_id%22%3A+1510351%2C+%22id%22%3A+%222-1510351-5%22%2C+%22section_title%22%3A+%22Summary%22%2C+%22rows%22%3A+%5B%5B%22Masters+Tournament%22%2C+%220%22%2C+%221%22%2C+%221%22%2C+%225%22%2C+%228%22%2C+%226%22%5D%2C+%5B%22U.S.+Open%22%2C+%220%22%2C+%221%22%2C+%221%22%2C+%222%22%2C+%225%22%2C+%223%22%5D%2C+%5B%22The+Open+Championship%22%2C+%225%22%2C+%2210%22%2C+%2218%22%2C+%2223%22%2C+%2230%22%2C+%2226%22%5D%2C+%5B%22PGA+Championship%22%2C+%220%22%2C+%220%22%2C+%220%22%2C+%220%22%2C+%220%22%2C+%220%22%5D%2C+%5B%22Totals%22%2C+%225%22%2C+%2212%22%2C+%2220%22%2C+%2230%22%2C+%2243%22%2C+%2235%22%5D%5D%2C+%22caption%22%3A+%22Summary%22%7D%0D%0A\" \"Mozilla/5.0 (Macintosh; Intel Mac OS X 10_15_3) AppleWebKit/537.36 (KHTML, like Gecko) Chrome/81.0.4044.138 Safari/537.36\"\n",
      "127.0.0.1 - - [15/May/2020:00:18:14] \"GET /crawls/default/metrics HTTP/1.1\" 404 1386 \"http://localhost:8080/monitoring/default\" \"Mozilla/5.0 (Macintosh; Intel Mac OS X 10_15_3) AppleWebKit/537.36 (KHTML, like Gecko) Chrome/81.0.4044.138 Safari/537.36\"\n",
      "127.0.0.1 - - [15/May/2020:00:18:15] \"GET /crawls/default/metrics HTTP/1.1\" 404 1386 \"http://localhost:8080/monitoring/default\" \"Mozilla/5.0 (Macintosh; Intel Mac OS X 10_15_3) AppleWebKit/537.36 (KHTML, like Gecko) Chrome/81.0.4044.138 Safari/537.36\"\n",
      "127.0.0.1 - - [15/May/2020:00:18:17] \"GET /crawls/default/metrics HTTP/1.1\" 404 1386 \"http://localhost:8080/monitoring/default\" \"Mozilla/5.0 (Macintosh; Intel Mac OS X 10_15_3) AppleWebKit/537.36 (KHTML, like Gecko) Chrome/81.0.4044.138 Safari/537.36\"\n",
      "127.0.0.1 - - [15/May/2020:00:18:18] \"GET /crawls/default/metrics HTTP/1.1\" 404 1386 \"http://localhost:8080/monitoring/default\" \"Mozilla/5.0 (Macintosh; Intel Mac OS X 10_15_3) AppleWebKit/537.36 (KHTML, like Gecko) Chrome/81.0.4044.138 Safari/537.36\"\n"
     ]
    },
    {
     "name": "stdout",
     "output_type": "stream",
     "text": [
      "127.0.0.1 - - [15/May/2020:00:18:19] \"GET /crawls/default/metrics HTTP/1.1\" 404 1386 \"http://localhost:8080/monitoring/default\" \"Mozilla/5.0 (Macintosh; Intel Mac OS X 10_15_3) AppleWebKit/537.36 (KHTML, like Gecko) Chrome/81.0.4044.138 Safari/537.36\"\n",
      "127.0.0.1 - - [15/May/2020:00:18:20] \"GET /crawls/default/metrics HTTP/1.1\" 404 1386 \"http://localhost:8080/monitoring/default\" \"Mozilla/5.0 (Macintosh; Intel Mac OS X 10_15_3) AppleWebKit/537.36 (KHTML, like Gecko) Chrome/81.0.4044.138 Safari/537.36\"\n",
      "127.0.0.1 - - [15/May/2020:00:18:21] \"GET /crawls/default/metrics HTTP/1.1\" 404 1386 \"http://localhost:8080/monitoring/default\" \"Mozilla/5.0 (Macintosh; Intel Mac OS X 10_15_3) AppleWebKit/537.36 (KHTML, like Gecko) Chrome/81.0.4044.138 Safari/537.36\"\n",
      "127.0.0.1 - - [15/May/2020:00:18:22] \"GET /update_table?uploaded_table=%7B%22header%22%3A+%5B%22Rider%22%2C+%22Bike%22%2C+%22Laps%22%2C+%22Time%22%2C+%22Grid%22%5D%2C+%22page_title%22%3A+%222008+Misano+Superbike+World+Championship+round%22%2C+%22types%22%3A+%5B%22text%22%2C+%22text%22%2C+%22real%22%2C+%22text%22%2C+%22real%22%5D%2C+%22page_id%22%3A+18145978%2C+%22id%22%3A+%222-18145978-2%22%2C+%22section_title%22%3A+%22Superbike+race+2+classification%22%2C+%22rows%22%3A+%5B%5B%22Ruben+Xaus%22%2C+%22Ducati+1098+RS+08%22%2C+%2224%22%2C+%2239%3A19.710%22%2C+%223%22%5D%2C+%5B%22Max+Biaggi%22%2C+%22Ducati+1098+RS+08%22%2C+%2224%22%2C+%22%2B1.035%22%2C+%225%22%5D%2C+%5B%22Troy+Bayliss%22%2C+%22Ducati+1098+F08%22%2C+%2224%22%2C+%22%2B4.158%22%2C+%222%22%5D%2C+%5B%22Noriyuki+Haga%22%2C+%22Yamaha+YZF-R1%22%2C+%2224%22%2C+%22%2B5.466%22%2C+%2214%22%5D%2C+%5B%22Troy+Corser%22%2C+%22Yamaha+YZF-R1%22%2C+%2224%22%2C+%22%2B6.759%22%2C+%221%22%5D%2C+%5B%22Lorenzo+Lanzi%22%2C+%22Ducati+1098+RS+08%22%2C+%2224%22%2C+%22%2B13.468%22%2C+%226%22%5D%2C+%5B%22Max+Neukirchner%22%2C+%22Suzuki+GSX-R1000%22%2C+%2224%22%2C+%22%2B15.221%22%2C+%2210%22%5D%2C+%5B%22Carlos+Checa%22%2C+%22Honda+CBR1000RR%22%2C+%2224%22%2C+%22%2B16.687%22%2C+%2211%22%5D%2C+%5B%22Jakub+Smrz%22%2C+%22Ducati+1098+RS+08%22%2C+%2224%22%2C+%22%2B17.030%22%2C+%227%22%5D%2C+%5B%22Fonsi+Nieto%22%2C+%22Suzuki+GSX-R1000%22%2C+%2224%22%2C+%22%2B17.681%22%2C+%229%22%5D%2C+%5B%22Michel+Fabrizio%22%2C+%22Ducati+1098+F08%22%2C+%2224%22%2C+%22%2B21.356%22%2C+%224%22%5D%2C+%5B%22Yukio+Kagayama%22%2C+%22Suzuki+GSX-R1000%22%2C+%2224%22%2C+%22%2B28.676%22%2C+%2213%22%5D%2C+%5B%22Ryuichi+Kiyonari%22%2C+%22Honda+CBR1000RR%22%2C+%2224%22%2C+%22%2B31.304%22%2C+%2222%22%5D%2C+%5B%22Gregorio+Lavilla%22%2C+%22Honda+CBR1000RR%22%2C+%2224%22%2C+%22%2B32.339%22%2C+%2219%22%5D%2C+%5B%22Shinichi+Nakatomi%22%2C+%22Yamaha+YZF-R1%22%2C+%2224%22%2C+%22%2B33.716%22%2C+%2220%22%5D%2C+%5B%22David+Checa%22%2C+%22Yamaha+YZF-R1%22%2C+%2224%22%2C+%22%2B34.171%22%2C+%2218%22%5D%2C+%5B%22Ayrton+Badovini%22%2C+%22Kawasaki+ZX-10R%22%2C+%2224%22%2C+%22%2B40.638%22%2C+%2216%22%5D%2C+%5B%22Roberto+Rolfo%22%2C+%22Honda+CBR1000RR%22%2C+%2224%22%2C+%22%2B41.136%22%2C+%2217%22%5D%2C+%5B%22Shuhei+Aoyama%22%2C+%22Honda+CBR1000RR%22%2C+%2224%22%2C+%22%2B49.699%22%2C+%2223%22%5D%2C+%5B%22Jason+Pridmore%22%2C+%22Honda+CBR1000RR%22%2C+%2223%22%2C+%22Retirement%22%2C+%2227%22%5D%2C+%5B%22S%5Cu00e9bastien+Gimbert%22%2C+%22Yamaha+YZF-R1%22%2C+%2214%22%2C+%22Retirement%22%2C+%2221%22%5D%2C+%5B%22Vittorio+Iannuzzo%22%2C+%22Kawasaki+ZX-10R%22%2C+%228%22%2C+%22Retirement%22%2C+%2225%22%5D%2C+%5B%22R%5Cu00e9gis+Laconi%22%2C+%22Kawasaki+ZX-10R%22%2C+%225%22%2C+%22Retirement%22%2C+%228%22%5D%2C+%5B%22Makoto+Tamada%22%2C+%22Kawasaki+ZX-10R%22%2C+%222%22%2C+%22Accident%22%2C+%2212%22%5D%2C+%5B%22Karl+Muggeridge%22%2C+%22Honda+CBR1000RR%22%2C+%222%22%2C+%22Retirement%22%2C+%2215%22%5D%2C+%5B%22Kenan+Sofuo%5Cu011flu%22%2C+%22Honda+CBR1000RR%22%2C+%220%22%2C+%22Accident%22%2C+%2224%22%5D%5D%2C+%22caption%22%3A+%22Superbike+race+2+classification%22%7D%0D%0A HTTP/1.1\" 200 3948 \"http://127.0.0.1:8080/update_plot?question=Name+the+average+top+25+of+different+events\" \"Mozilla/5.0 (Macintosh; Intel Mac OS X 10_15_3) AppleWebKit/537.36 (KHTML, like Gecko) Chrome/81.0.4044.138 Safari/537.36\"\n",
      "127.0.0.1 - - [15/May/2020:00:18:22] \"GET /crawls/default/metrics HTTP/1.1\" 404 1386 \"http://localhost:8080/monitoring/default\" \"Mozilla/5.0 (Macintosh; Intel Mac OS X 10_15_3) AppleWebKit/537.36 (KHTML, like Gecko) Chrome/81.0.4044.138 Safari/537.36\"\n",
      "127.0.0.1 - - [15/May/2020:00:18:24] \"GET /crawls/default/metrics HTTP/1.1\" 404 1386 \"http://localhost:8080/monitoring/default\" \"Mozilla/5.0 (Macintosh; Intel Mac OS X 10_15_3) AppleWebKit/537.36 (KHTML, like Gecko) Chrome/81.0.4044.138 Safari/537.36\"\n",
      "127.0.0.1 - - [15/May/2020:00:18:25] \"GET /crawls/default/metrics HTTP/1.1\" 404 1386 \"http://localhost:8080/monitoring/default\" \"Mozilla/5.0 (Macintosh; Intel Mac OS X 10_15_3) AppleWebKit/537.36 (KHTML, like Gecko) Chrome/81.0.4044.138 Safari/537.36\"\n",
      "127.0.0.1 - - [15/May/2020:00:18:26] \"GET /crawls/default/metrics HTTP/1.1\" 404 1386 \"http://localhost:8080/monitoring/default\" \"Mozilla/5.0 (Macintosh; Intel Mac OS X 10_15_3) AppleWebKit/537.36 (KHTML, like Gecko) Chrome/81.0.4044.138 Safari/537.36\"\n",
      "127.0.0.1 - - [15/May/2020:00:18:27] \"GET /crawls/default/metrics HTTP/1.1\" 404 1386 \"http://localhost:8080/monitoring/default\" \"Mozilla/5.0 (Macintosh; Intel Mac OS X 10_15_3) AppleWebKit/537.36 (KHTML, like Gecko) Chrome/81.0.4044.138 Safari/537.36\"\n",
      "127.0.0.1 - - [15/May/2020:00:18:28] \"GET /crawls/default/metrics HTTP/1.1\" 404 1386 \"http://localhost:8080/monitoring/default\" \"Mozilla/5.0 (Macintosh; Intel Mac OS X 10_15_3) AppleWebKit/537.36 (KHTML, like Gecko) Chrome/81.0.4044.138 Safari/537.36\"\n",
      "127.0.0.1 - - [15/May/2020:00:18:29] \"GET /crawls/default/metrics HTTP/1.1\" 404 1386 \"http://localhost:8080/monitoring/default\" \"Mozilla/5.0 (Macintosh; Intel Mac OS X 10_15_3) AppleWebKit/537.36 (KHTML, like Gecko) Chrome/81.0.4044.138 Safari/537.36\"\n",
      "[0. 0. 1. 0. 1.] [2 4]\n",
      "127.0.0.1 - - [15/May/2020:00:18:30] \"GET /update_plot?question=What+is+the+total+number+of+Grid%2C+when+Laps+has+different+values%3F HTTP/1.1\" 200 5939 \"http://127.0.0.1:8080/update_table?uploaded_table=%7B%22header%22%3A+%5B%22Rider%22%2C+%22Bike%22%2C+%22Laps%22%2C+%22Time%22%2C+%22Grid%22%5D%2C+%22page_title%22%3A+%222008+Misano+Superbike+World+Championship+round%22%2C+%22types%22%3A+%5B%22text%22%2C+%22text%22%2C+%22real%22%2C+%22text%22%2C+%22real%22%5D%2C+%22page_id%22%3A+18145978%2C+%22id%22%3A+%222-18145978-2%22%2C+%22section_title%22%3A+%22Superbike+race+2+classification%22%2C+%22rows%22%3A+%5B%5B%22Ruben+Xaus%22%2C+%22Ducati+1098+RS+08%22%2C+%2224%22%2C+%2239%3A19.710%22%2C+%223%22%5D%2C+%5B%22Max+Biaggi%22%2C+%22Ducati+1098+RS+08%22%2C+%2224%22%2C+%22%2B1.035%22%2C+%225%22%5D%2C+%5B%22Troy+Bayliss%22%2C+%22Ducati+1098+F08%22%2C+%2224%22%2C+%22%2B4.158%22%2C+%222%22%5D%2C+%5B%22Noriyuki+Haga%22%2C+%22Yamaha+YZF-R1%22%2C+%2224%22%2C+%22%2B5.466%22%2C+%2214%22%5D%2C+%5B%22Troy+Corser%22%2C+%22Yamaha+YZF-R1%22%2C+%2224%22%2C+%22%2B6.759%22%2C+%221%22%5D%2C+%5B%22Lorenzo+Lanzi%22%2C+%22Ducati+1098+RS+08%22%2C+%2224%22%2C+%22%2B13.468%22%2C+%226%22%5D%2C+%5B%22Max+Neukirchner%22%2C+%22Suzuki+GSX-R1000%22%2C+%2224%22%2C+%22%2B15.221%22%2C+%2210%22%5D%2C+%5B%22Carlos+Checa%22%2C+%22Honda+CBR1000RR%22%2C+%2224%22%2C+%22%2B16.687%22%2C+%2211%22%5D%2C+%5B%22Jakub+Smrz%22%2C+%22Ducati+1098+RS+08%22%2C+%2224%22%2C+%22%2B17.030%22%2C+%227%22%5D%2C+%5B%22Fonsi+Nieto%22%2C+%22Suzuki+GSX-R1000%22%2C+%2224%22%2C+%22%2B17.681%22%2C+%229%22%5D%2C+%5B%22Michel+Fabrizio%22%2C+%22Ducati+1098+F08%22%2C+%2224%22%2C+%22%2B21.356%22%2C+%224%22%5D%2C+%5B%22Yukio+Kagayama%22%2C+%22Suzuki+GSX-R1000%22%2C+%2224%22%2C+%22%2B28.676%22%2C+%2213%22%5D%2C+%5B%22Ryuichi+Kiyonari%22%2C+%22Honda+CBR1000RR%22%2C+%2224%22%2C+%22%2B31.304%22%2C+%2222%22%5D%2C+%5B%22Gregorio+Lavilla%22%2C+%22Honda+CBR1000RR%22%2C+%2224%22%2C+%22%2B32.339%22%2C+%2219%22%5D%2C+%5B%22Shinichi+Nakatomi%22%2C+%22Yamaha+YZF-R1%22%2C+%2224%22%2C+%22%2B33.716%22%2C+%2220%22%5D%2C+%5B%22David+Checa%22%2C+%22Yamaha+YZF-R1%22%2C+%2224%22%2C+%22%2B34.171%22%2C+%2218%22%5D%2C+%5B%22Ayrton+Badovini%22%2C+%22Kawasaki+ZX-10R%22%2C+%2224%22%2C+%22%2B40.638%22%2C+%2216%22%5D%2C+%5B%22Roberto+Rolfo%22%2C+%22Honda+CBR1000RR%22%2C+%2224%22%2C+%22%2B41.136%22%2C+%2217%22%5D%2C+%5B%22Shuhei+Aoyama%22%2C+%22Honda+CBR1000RR%22%2C+%2224%22%2C+%22%2B49.699%22%2C+%2223%22%5D%2C+%5B%22Jason+Pridmore%22%2C+%22Honda+CBR1000RR%22%2C+%2223%22%2C+%22Retirement%22%2C+%2227%22%5D%2C+%5B%22S%5Cu00e9bastien+Gimbert%22%2C+%22Yamaha+YZF-R1%22%2C+%2214%22%2C+%22Retirement%22%2C+%2221%22%5D%2C+%5B%22Vittorio+Iannuzzo%22%2C+%22Kawasaki+ZX-10R%22%2C+%228%22%2C+%22Retirement%22%2C+%2225%22%5D%2C+%5B%22R%5Cu00e9gis+Laconi%22%2C+%22Kawasaki+ZX-10R%22%2C+%225%22%2C+%22Retirement%22%2C+%228%22%5D%2C+%5B%22Makoto+Tamada%22%2C+%22Kawasaki+ZX-10R%22%2C+%222%22%2C+%22Accident%22%2C+%2212%22%5D%2C+%5B%22Karl+Muggeridge%22%2C+%22Honda+CBR1000RR%22%2C+%222%22%2C+%22Retirement%22%2C+%2215%22%5D%2C+%5B%22Kenan+Sofuo%5Cu011flu%22%2C+%22Honda+CBR1000RR%22%2C+%220%22%2C+%22Accident%22%2C+%2224%22%5D%5D%2C+%22caption%22%3A+%22Superbike+race+2+classification%22%7D%0D%0A\" \"Mozilla/5.0 (Macintosh; Intel Mac OS X 10_15_3) AppleWebKit/537.36 (KHTML, like Gecko) Chrome/81.0.4044.138 Safari/537.36\"\n"
     ]
    },
    {
     "name": "stdout",
     "output_type": "stream",
     "text": [
      "127.0.0.1 - - [15/May/2020:00:18:30] \"GET /crawls/default/metrics HTTP/1.1\" 404 1386 \"http://localhost:8080/monitoring/default\" \"Mozilla/5.0 (Macintosh; Intel Mac OS X 10_15_3) AppleWebKit/537.36 (KHTML, like Gecko) Chrome/81.0.4044.138 Safari/537.36\"\n",
      "127.0.0.1 - - [15/May/2020:00:18:31] \"GET /crawls/default/metrics HTTP/1.1\" 404 1386 \"http://localhost:8080/monitoring/default\" \"Mozilla/5.0 (Macintosh; Intel Mac OS X 10_15_3) AppleWebKit/537.36 (KHTML, like Gecko) Chrome/81.0.4044.138 Safari/537.36\"\n",
      "127.0.0.1 - - [15/May/2020:00:18:32] \"GET /crawls/default/metrics HTTP/1.1\" 404 1386 \"http://localhost:8080/monitoring/default\" \"Mozilla/5.0 (Macintosh; Intel Mac OS X 10_15_3) AppleWebKit/537.36 (KHTML, like Gecko) Chrome/81.0.4044.138 Safari/537.36\"\n",
      "127.0.0.1 - - [15/May/2020:00:18:33] \"GET /crawls/default/metrics HTTP/1.1\" 404 1386 \"http://localhost:8080/monitoring/default\" \"Mozilla/5.0 (Macintosh; Intel Mac OS X 10_15_3) AppleWebKit/537.36 (KHTML, like Gecko) Chrome/81.0.4044.138 Safari/537.36\"\n",
      "127.0.0.1 - - [15/May/2020:00:18:34] \"GET /crawls/default/metrics HTTP/1.1\" 404 1386 \"http://localhost:8080/monitoring/default\" \"Mozilla/5.0 (Macintosh; Intel Mac OS X 10_15_3) AppleWebKit/537.36 (KHTML, like Gecko) Chrome/81.0.4044.138 Safari/537.36\"\n"
     ]
    },
    {
     "name": "stderr",
     "output_type": "stream",
     "text": [
      "[15/May/2020:00:18:35] ENGINE Keyboard Interrupt: shutting down bus\n",
      "[15/May/2020:00:18:35] ENGINE Bus STOPPING\n",
      "[15/May/2020:00:18:40] ENGINE HTTP Server cherrypy._cpwsgi_server.CPWSGIServer(('127.0.0.1', 8080)) shut down\n",
      "[15/May/2020:00:18:40] ENGINE Stopped thread 'Autoreloader'.\n",
      "[15/May/2020:00:18:40] ENGINE Bus STOPPED\n",
      "[15/May/2020:00:18:40] ENGINE Bus EXITING\n",
      "[15/May/2020:00:18:40] ENGINE Bus EXITED\n",
      "[15/May/2020:00:18:40] ENGINE Waiting for child threads to terminate...\n"
     ]
    }
   ],
   "source": [
    "import os, os.path\n",
    "import random\n",
    "import string\n",
    "\n",
    "import cherrypy\n",
    "\n",
    "\n",
    "class StringGenerator(object):\n",
    "    \n",
    "    def __init__(self, model_col, model_agg):\n",
    "        self.model_col_ = model_col\n",
    "        self.model_agg_ = model_agg\n",
    "        self.table_ = None\n",
    "        self.table_byte_ = None\n",
    "        self.data_byte_ = None\n",
    "    \n",
    "    @cherrypy.expose\n",
    "    def index(self):\n",
    "        index_html = html_before_table+index_table_byte+html_before_plot+html_after_plot\n",
    "#         return open('index.html')\n",
    "        return index_html\n",
    "\n",
    "\n",
    "    @cherrypy.expose\n",
    "    def update_table(self, uploaded_table='a'):\n",
    "        self.table_ = json.loads(uploaded_table)\n",
    "        table_byte = table_html(self.table_)\n",
    "        self.table_byte_ = table_byte\n",
    "        update_table_html = html_before_table+table_byte+html_before_plot+html_after_plot\n",
    "        return update_table_html\n",
    "\n",
    "    @cherrypy.expose\n",
    "    def update_plot(self, question):\n",
    "        self.data_byte_ = data_html(question, self.table_ ).encode()\n",
    "        update_plot_html = html_before_table+self.table_byte_+html_before_plot+self.data_byte_+html_after_plot\n",
    "        return update_plot_html\n",
    "#         return cherrypy.session['mystring']\n",
    "\n",
    "\n",
    "if __name__ == '__main__':\n",
    "    conf = {\n",
    "        '/': {\n",
    "            'tools.sessions.on': True,\n",
    "            'tools.staticdir.root': os.path.abspath(os.getcwd())\n",
    "        },\n",
    "        '/static': {\n",
    "            'tools.staticdir.on': True,\n",
    "            'tools.staticdir.dir': './public'\n",
    "        }\n",
    "    }\n",
    "    cherrypy.quickstart(StringGenerator(1,2), '/', conf)"
   ]
  },
  {
   "cell_type": "code",
   "execution_count": 11,
   "metadata": {},
   "outputs": [],
   "source": [
    "q_c = {\"phase\": 2, \"table_id\": \"2-1510351-5\", \"question\": \"Name the average top 25 of different events\", \"sql\": {\"sel\": 4, \"conds\": [[5, 2, 0]], \"agg\": 5}, \"question1\": \"What is the average value of Top-25 over different Events\", \"question2\": \"How does the average Top-25 distribute over different Events\"}\n",
    "js_c = {\"header\": [\"Tournament\", \"Wins\", \"Top-5\", \"Top-10\", \"Top-25\", \"Events\", \"Cuts made\"], \"page_title\": \"Peter Thomson (golfer)\", \"types\": [\"text\", \"real\", \"real\", \"real\", \"real\", \"real\", \"real\"], \"page_id\": 1510351, \"id\": \"2-1510351-5\", \"section_title\": \"Summary\", \"rows\": [[\"Masters Tournament\", \"0\", \"1\", \"1\", \"5\", \"8\", \"6\"], [\"U.S. Open\", \"0\", \"1\", \"1\", \"2\", \"5\", \"3\"], [\"The Open Championship\", \"5\", \"10\", \"18\", \"23\", \"30\", \"26\"], [\"PGA Championship\", \"0\", \"0\", \"0\", \"0\", \"0\", \"0\"], [\"Totals\", \"5\", \"12\", \"20\", \"30\", \"43\", \"35\"]], \"caption\": \"Summary\"}\n",
    "\n"
   ]
  },
  {
   "cell_type": "code",
   "execution_count": 141,
   "metadata": {},
   "outputs": [],
   "source": [
    "q_d = {\"phase\": 2, \"table_id\": \"2-18145978-2\", \"question\": \"What is the total number of Grid, when Laps has different values?\", \"sql\": {\"sel\": 4, \"conds\": [[2, 1, 24]], \"agg\": 3}, \"question1\": \"What is the Grid over different Laps\", \"question2\": \"How many Grid over different Laps\"}\n",
    "js_d = {\"header\": [\"Rider\", \"Bike\", \"Laps\", \"Time\", \"Grid\"], \"page_title\": \"2008 Misano Superbike World Championship round\", \"types\": [\"text\", \"text\", \"real\", \"text\", \"real\"], \"page_id\": 18145978, \"id\": \"2-18145978-2\", \"section_title\": \"Superbike race 2 classification\", \"rows\": [[\"Ruben Xaus\", \"Ducati 1098 RS 08\", \"24\", \"39:19.710\", \"3\"], [\"Max Biaggi\", \"Ducati 1098 RS 08\", \"24\", \"+1.035\", \"5\"], [\"Troy Bayliss\", \"Ducati 1098 F08\", \"24\", \"+4.158\", \"2\"], [\"Noriyuki Haga\", \"Yamaha YZF-R1\", \"24\", \"+5.466\", \"14\"], [\"Troy Corser\", \"Yamaha YZF-R1\", \"24\", \"+6.759\", \"1\"], [\"Lorenzo Lanzi\", \"Ducati 1098 RS 08\", \"24\", \"+13.468\", \"6\"], [\"Max Neukirchner\", \"Suzuki GSX-R1000\", \"24\", \"+15.221\", \"10\"], [\"Carlos Checa\", \"Honda CBR1000RR\", \"24\", \"+16.687\", \"11\"], [\"Jakub Smrz\", \"Ducati 1098 RS 08\", \"24\", \"+17.030\", \"7\"], [\"Fonsi Nieto\", \"Suzuki GSX-R1000\", \"24\", \"+17.681\", \"9\"], [\"Michel Fabrizio\", \"Ducati 1098 F08\", \"24\", \"+21.356\", \"4\"], [\"Yukio Kagayama\", \"Suzuki GSX-R1000\", \"24\", \"+28.676\", \"13\"], [\"Ryuichi Kiyonari\", \"Honda CBR1000RR\", \"24\", \"+31.304\", \"22\"], [\"Gregorio Lavilla\", \"Honda CBR1000RR\", \"24\", \"+32.339\", \"19\"], [\"Shinichi Nakatomi\", \"Yamaha YZF-R1\", \"24\", \"+33.716\", \"20\"], [\"David Checa\", \"Yamaha YZF-R1\", \"24\", \"+34.171\", \"18\"], [\"Ayrton Badovini\", \"Kawasaki ZX-10R\", \"24\", \"+40.638\", \"16\"], [\"Roberto Rolfo\", \"Honda CBR1000RR\", \"24\", \"+41.136\", \"17\"], [\"Shuhei Aoyama\", \"Honda CBR1000RR\", \"24\", \"+49.699\", \"23\"], [\"Jason Pridmore\", \"Honda CBR1000RR\", \"23\", \"Retirement\", \"27\"], [\"S\\u00e9bastien Gimbert\", \"Yamaha YZF-R1\", \"14\", \"Retirement\", \"21\"], [\"Vittorio Iannuzzo\", \"Kawasaki ZX-10R\", \"8\", \"Retirement\", \"25\"], [\"R\\u00e9gis Laconi\", \"Kawasaki ZX-10R\", \"5\", \"Retirement\", \"8\"], [\"Makoto Tamada\", \"Kawasaki ZX-10R\", \"2\", \"Accident\", \"12\"], [\"Karl Muggeridge\", \"Honda CBR1000RR\", \"2\", \"Retirement\", \"15\"], [\"Kenan Sofuo\\u011flu\", \"Honda CBR1000RR\", \"0\", \"Accident\", \"24\"]], \"caption\": \"Superbike race 2 classification\"}\n",
    "\n"
   ]
  }
 ],
 "metadata": {
  "kernelspec": {
   "display_name": "Python 3",
   "language": "python",
   "name": "python3"
  },
  "language_info": {
   "codemirror_mode": {
    "name": "ipython",
    "version": 3
   },
   "file_extension": ".py",
   "mimetype": "text/x-python",
   "name": "python",
   "nbconvert_exporter": "python",
   "pygments_lexer": "ipython3",
   "version": "3.6.5"
  }
 },
 "nbformat": 4,
 "nbformat_minor": 4
}
