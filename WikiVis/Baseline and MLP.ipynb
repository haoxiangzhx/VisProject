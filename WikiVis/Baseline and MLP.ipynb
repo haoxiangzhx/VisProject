{
 "cells": [
  {
   "cell_type": "code",
   "execution_count": 1,
   "metadata": {},
   "outputs": [],
   "source": [
    "# features: sentence embeddings+noun embedding+adj embeddding\n",
    "# or named entity embeddings\n",
    "# column edit distance??\n",
    "\n",
    "# https://medium.com/huggingface/universal-word-sentence-embeddings-ce48ddc8fc3a\n",
    "\n",
    "# Wiki Pre Trained with Fasttext https://fasttext.cc/docs/en/english-vectors.html\n",
    "# Advances in Pre-Training Distributed Word Representations"
   ]
  },
  {
   "cell_type": "code",
   "execution_count": 1,
   "metadata": {},
   "outputs": [
    {
     "name": "stderr",
     "output_type": "stream",
     "text": [
      "/usr/local/lib/python3.6/site-packages/requests/__init__.py:91: RequestsDependencyWarning: urllib3 (1.25.9) or chardet (3.0.4) doesn't match a supported version!\n",
      "  RequestsDependencyWarning)\n"
     ]
    }
   ],
   "source": [
    "# import spaCy??\n",
    "# https://spacy.io/\n",
    "import io\n",
    "import json\n",
    "import spacy\n",
    "import numpy as np\n",
    "from sklearn.ensemble import RandomForestClassifier, RandomForestRegressor\n",
    "from sklearn.metrics import accuracy_score\n",
    "from sklearn.neural_network import MLPClassifier"
   ]
  },
  {
   "cell_type": "markdown",
   "metadata": {},
   "source": [
    "# 1. Functions"
   ]
  },
  {
   "cell_type": "code",
   "execution_count": 3,
   "metadata": {},
   "outputs": [],
   "source": [
    "def load_vectors(fname):\n",
    "    fin = io.open(fname, 'r', encoding='utf-8', newline='\\n', errors='ignore')\n",
    "    n, d = map(int, fin.readline().split())\n",
    "    data = {}\n",
    "    cnt = 0\n",
    "    for line in fin:\n",
    "        cnt += 1\n",
    "        if cnt % 100000 == 0:\n",
    "            print(cnt)\n",
    "        tokens = line.rstrip().split(' ')\n",
    "        data[tokens[0]] = list(map(float, tokens[1:]))\n",
    "    return data"
   ]
  },
  {
   "cell_type": "code",
   "execution_count": 4,
   "metadata": {},
   "outputs": [],
   "source": [
    "def load_questions(fname):\n",
    "    with open(fname) as f:\n",
    "        questions_list = f.readlines()\n",
    "\n",
    "    filtered_questions_list = []\n",
    "    for question in questions_list:\n",
    "        question_json = json.loads(question)\n",
    "        question_json.pop('question1')\n",
    "        question_json.pop('question2')\n",
    "        filtered_questions_list.append(question_json)\n",
    "            \n",
    "    return filtered_questions_list"
   ]
  },
  {
   "cell_type": "code",
   "execution_count": 5,
   "metadata": {},
   "outputs": [],
   "source": [
    "def load_tables(part_file_name):\n",
    "    with open('../WikiSQL/data/'+part_file_name+'.tables.jsonl') as f:\n",
    "        tables_list = f.readlines()\n",
    "        \n",
    "    tables = {}\n",
    "    for table in tables_list:\n",
    "        table_json = json.loads(table)\n",
    "        tables[table_json['id']] = table_json\n",
    "    return tables"
   ]
  },
  {
   "cell_type": "code",
   "execution_count": 6,
   "metadata": {},
   "outputs": [],
   "source": [
    "def sentence_embedding(sentence, spacy_model, fastText_model):\n",
    "    # weight more on nouns that are not stop words\n",
    "    embed_dim = 300\n",
    "    noun_amplify = 3\n",
    "    doc = nlp(sentence)\n",
    "    embed_res = np.zeros((embed_dim,))\n",
    "    doc_len = len(doc)\n",
    "    noun_cnt = 0\n",
    "    for token in doc:\n",
    "        if token.lemma_ in fastText_model:\n",
    "            if token.pos_ == 'NOUN' and token.is_stop == False:\n",
    "                embed_res += noun_amplify*np.array(fastText_model[token.lemma_])\n",
    "                noun_cnt += 1\n",
    "            else:\n",
    "                embed_res += np.array(fastText_model[token.lemma_])\n",
    "        else:\n",
    "            embed_res += np.zeros((embed_dim,))\n",
    "#         print(fastText_model[token.lemma_][-1], embed_res[-1])\n",
    "    embed_res = np.array(embed_res)/(doc_len+(noun_amplify-1)*noun_cnt)\n",
    "    return embed_res"
   ]
  },
  {
   "cell_type": "code",
   "execution_count": 7,
   "metadata": {},
   "outputs": [],
   "source": [
    "def headers_embedding(headers, spacy_model, fastText_model):\n",
    "    embed_dim = 300\n",
    "    header_embedding = np.empty((0, embed_dim))\n",
    "    for col_name in headers:\n",
    "        col_embed = sentence_embedding(col_name, spacy_model, fastText_model)\n",
    "        header_embedding = np.vstack((header_embedding, col_embed))\n",
    "    return header_embedding"
   ]
  },
  {
   "cell_type": "code",
   "execution_count": 8,
   "metadata": {},
   "outputs": [],
   "source": [
    "def question_Xy(question_embedding, header_embedding, sel_ind, conds_ind):\n",
    "    question_embed = 600\n",
    "    question_X = np.empty((0, question_embed))\n",
    "    question_y = np.empty((0,1))\n",
    "    for header_ind in range(len(header_embedding)):\n",
    "        question_X = np.vstack((question_X, np.concatenate((question_embedding, header_embedding[header_ind]))))\n",
    "        if header_ind == sel_ind or header_ind == conds_ind:\n",
    "            question_y = np.vstack((question_y, np.array(1)))\n",
    "        else:\n",
    "            question_y = np.vstack((question_y, np.array(0)))\n",
    "    return question_X, question_y"
   ]
  },
  {
   "cell_type": "code",
   "execution_count": 9,
   "metadata": {},
   "outputs": [],
   "source": [
    "def obtain_Xy(question_list, table_dict, spacy_model, fastText_model):\n",
    "    question_embed = 600\n",
    "    aggreation_embed = 300\n",
    "    question_Xs = np.empty((0, question_embed))\n",
    "    question_ys = np.empty((0,1))\n",
    "    aggreation_Xs = np.empty((0, aggreation_embed))\n",
    "    aggregation_ys = np.empty((0,1))\n",
    "    for question in question_list:\n",
    "        question_embedding = sentence_embedding(question['question'], spacy_model, fastText_model)\n",
    "        header_embedding = headers_embedding(table_dict[question['table_id']]['header'], spacy_model, \\\n",
    "                                           fastText_model)\n",
    "        \n",
    "        question_X, question_y = question_Xy(question_embedding, header_embedding, question['sql']['sel'], \\\n",
    "                                                  question['sql']['conds'][0][0])\n",
    "        question_Xs = np.vstack((question_Xs, question_X))\n",
    "        question_ys = np.vstack((question_ys, question_y))\n",
    "        \n",
    "        aggreation_Xs = np.vstack((aggreation_Xs, question_embedding))\n",
    "        if question['sql']['agg'] == 5:\n",
    "            agg = 0\n",
    "        else:\n",
    "            agg = 1\n",
    "        aggregation_ys = np.vstack((aggregation_ys, np.array(agg)))\n",
    "        \n",
    "    return question_Xs, question_ys, aggreation_Xs, aggregation_ys"
   ]
  },
  {
   "cell_type": "markdown",
   "metadata": {},
   "source": [
    "# 2. Load Prepared Data"
   ]
  },
  {
   "cell_type": "code",
   "execution_count": 2,
   "metadata": {},
   "outputs": [],
   "source": [
    "column_train_X, column_train_y, agg_train_X, agg_train_y = np.load('train.npy', allow_pickle=True)\n",
    "column_test_X, column_test_y, agg_test_X, agg_test_y = np.load('test.npy', allow_pickle=True)\n",
    "train_lstm_X, train_lstm_y = np.load('train_lstm.npy', allow_pickle=True)\n",
    "test_lstm_X, test_lstm_y = np.load('test_lstm.npy', allow_pickle=True)\n",
    "test_np = np.load('test_individual.npy', allow_pickle=True)"
   ]
  },
  {
   "cell_type": "markdown",
   "metadata": {},
   "source": [
    "# 3. Models"
   ]
  },
  {
   "cell_type": "markdown",
   "metadata": {},
   "source": [
    "## Random Forest for Aggregation Method Prediction"
   ]
  },
  {
   "cell_type": "code",
   "execution_count": 12,
   "metadata": {},
   "outputs": [
    {
     "name": "stderr",
     "output_type": "stream",
     "text": [
      "/usr/local/lib/python3.6/site-packages/ipykernel_launcher.py:2: DataConversionWarning: A column-vector y was passed when a 1d array was expected. Please change the shape of y to (n_samples,), for example using ravel().\n",
      "  \n"
     ]
    },
    {
     "data": {
      "text/plain": [
       "0.9"
      ]
     },
     "execution_count": 12,
     "metadata": {},
     "output_type": "execute_result"
    }
   ],
   "source": [
    "agg_clf = RandomForestClassifier()\n",
    "agg_clf.fit(agg_train_X,agg_train_y)\n",
    "agg_y_pred = agg_clf.predict(agg_test_X)\n",
    "accuracy_score(agg_test_y, agg_y_pred)"
   ]
  },
  {
   "cell_type": "code",
   "execution_count": 13,
   "metadata": {},
   "outputs": [
    {
     "data": {
      "text/plain": [
       "RandomForestClassifier(bootstrap=True, ccp_alpha=0.0, class_weight=None,\n",
       "                       criterion='gini', max_depth=None, max_features='auto',\n",
       "                       max_leaf_nodes=None, max_samples=None,\n",
       "                       min_impurity_decrease=0.0, min_impurity_split=None,\n",
       "                       min_samples_leaf=1, min_samples_split=2,\n",
       "                       min_weight_fraction_leaf=0.0, n_estimators=100,\n",
       "                       n_jobs=None, oob_score=False, random_state=None,\n",
       "                       verbose=0, warm_start=False)"
      ]
     },
     "execution_count": 13,
     "metadata": {},
     "output_type": "execute_result"
    }
   ],
   "source": [
    "agg_clf"
   ]
  },
  {
   "cell_type": "markdown",
   "metadata": {},
   "source": [
    "## MLP Classifier for Aggregation Method Prediction"
   ]
  },
  {
   "cell_type": "code",
   "execution_count": 14,
   "metadata": {},
   "outputs": [
    {
     "name": "stderr",
     "output_type": "stream",
     "text": [
      "/usr/local/lib/python3.6/site-packages/sklearn/neural_network/_multilayer_perceptron.py:934: DataConversionWarning: A column-vector y was passed when a 1d array was expected. Please change the shape of y to (n_samples, ), for example using ravel().\n",
      "  y = column_or_1d(y, warn=True)\n",
      "/usr/local/lib/python3.6/site-packages/sklearn/neural_network/_multilayer_perceptron.py:571: ConvergenceWarning: Stochastic Optimizer: Maximum iterations (200) reached and the optimization hasn't converged yet.\n",
      "  % self.max_iter, ConvergenceWarning)\n"
     ]
    },
    {
     "data": {
      "text/plain": [
       "0.9666666666666667"
      ]
     },
     "execution_count": 14,
     "metadata": {},
     "output_type": "execute_result"
    }
   ],
   "source": [
    "agg_clf = MLPClassifier(hidden_layer_sizes=(256,128))\n",
    "agg_clf.fit(agg_train_X,agg_train_y)\n",
    "agg_y_pred = agg_clf.predict(agg_test_X)\n",
    "accuracy_score(agg_test_y, agg_y_pred)"
   ]
  },
  {
   "cell_type": "code",
   "execution_count": 15,
   "metadata": {},
   "outputs": [
    {
     "data": {
      "text/plain": [
       "MLPClassifier(activation='relu', alpha=0.0001, batch_size='auto', beta_1=0.9,\n",
       "              beta_2=0.999, early_stopping=False, epsilon=1e-08,\n",
       "              hidden_layer_sizes=(256, 128), learning_rate='constant',\n",
       "              learning_rate_init=0.001, max_fun=15000, max_iter=200,\n",
       "              momentum=0.9, n_iter_no_change=10, nesterovs_momentum=True,\n",
       "              power_t=0.5, random_state=None, shuffle=True, solver='adam',\n",
       "              tol=0.0001, validation_fraction=0.1, verbose=False,\n",
       "              warm_start=False)"
      ]
     },
     "execution_count": 15,
     "metadata": {},
     "output_type": "execute_result"
    }
   ],
   "source": [
    "agg_clf"
   ]
  },
  {
   "cell_type": "markdown",
   "metadata": {},
   "source": [
    "## Random Forest for Column Selection Prediction"
   ]
  },
  {
   "cell_type": "code",
   "execution_count": 6,
   "metadata": {},
   "outputs": [
    {
     "name": "stderr",
     "output_type": "stream",
     "text": [
      "/usr/local/lib/python3.6/site-packages/ipykernel_launcher.py:2: DataConversionWarning: A column-vector y was passed when a 1d array was expected. Please change the shape of y to (n_samples,), for example using ravel().\n",
      "  \n"
     ]
    },
    {
     "name": "stdout",
     "output_type": "stream",
     "text": [
      "2\n",
      "9\n",
      "12\n",
      "13\n",
      "14\n",
      "20\n",
      "22\n",
      "25\n",
      "26\n",
      "27\n",
      "28\n",
      "accuracy: 0.36666666666666664\n"
     ]
    }
   ],
   "source": [
    "col_clf = RandomForestClassifier()\n",
    "col_clf.fit(column_train_X, column_train_y)\n",
    "\n",
    "# test_questions = questions[50:]\n",
    "test_tot = test_np.shape[1]\n",
    "correct_cnt = 0\n",
    "for ind in range(test_tot):\n",
    "    col_test_X = test_np[0][ind]\n",
    "    col_test_y = test_np[1][ind]\n",
    "    col_y_pred = col_clf.predict(col_test_X)\n",
    "#     print(col_test_y.shape, col_y_pred.shape)\n",
    "    acc = accuracy_score(col_test_y, col_y_pred)\n",
    "    if acc == 1.0:\n",
    "        correct_cnt+=1\n",
    "        print(ind)\n",
    "print(\"accuracy:\", correct_cnt/test_tot)\n",
    "# np.intersect1d(np.where(column_test_y==1)[0], np.where(col_y_pred==1))"
   ]
  },
  {
   "cell_type": "code",
   "execution_count": 7,
   "metadata": {},
   "outputs": [
    {
     "data": {
      "text/plain": [
       "0.8181818181818182"
      ]
     },
     "execution_count": 7,
     "metadata": {},
     "output_type": "execute_result"
    }
   ],
   "source": [
    "column_y_pred = col_clf.predict(column_test_X)\n",
    "accuracy_score(column_test_y, column_y_pred)"
   ]
  },
  {
   "cell_type": "code",
   "execution_count": 10,
   "metadata": {},
   "outputs": [
    {
     "data": {
      "text/plain": [
       "MLPClassifier(activation='relu', alpha=0.0001, batch_size='auto', beta_1=0.9,\n",
       "              beta_2=0.999, early_stopping=False, epsilon=1e-08,\n",
       "              hidden_layer_sizes=(512, 256, 64), learning_rate='constant',\n",
       "              learning_rate_init=0.001, max_fun=15000, max_iter=200,\n",
       "              momentum=0.9, n_iter_no_change=10, nesterovs_momentum=True,\n",
       "              power_t=0.5, random_state=None, shuffle=True, solver='adam',\n",
       "              tol=0.0001, validation_fraction=0.1, verbose=False,\n",
       "              warm_start=False)"
      ]
     },
     "execution_count": 10,
     "metadata": {},
     "output_type": "execute_result"
    }
   ],
   "source": [
    "col_clf"
   ]
  },
  {
   "cell_type": "markdown",
   "metadata": {},
   "source": [
    "## MLP Classifier for Column Selection Prediction"
   ]
  },
  {
   "cell_type": "code",
   "execution_count": 8,
   "metadata": {},
   "outputs": [
    {
     "name": "stderr",
     "output_type": "stream",
     "text": [
      "/usr/local/lib/python3.6/site-packages/sklearn/neural_network/_multilayer_perceptron.py:934: DataConversionWarning: A column-vector y was passed when a 1d array was expected. Please change the shape of y to (n_samples, ), for example using ravel().\n",
      "  y = column_or_1d(y, warn=True)\n"
     ]
    },
    {
     "name": "stdout",
     "output_type": "stream",
     "text": [
      "4\n",
      "7\n",
      "12\n",
      "13\n",
      "14\n",
      "17\n",
      "19\n",
      "22\n",
      "28\n",
      "29\n",
      "accuracy: 0.3333333333333333\n"
     ]
    }
   ],
   "source": [
    "col_clf = MLPClassifier(hidden_layer_sizes=(512,256,64))\n",
    "# col_clf = RandomForestClassifier()\n",
    "col_clf.fit(column_train_X, column_train_y)\n",
    "\n",
    "# test_questions = questions[50:]\n",
    "test_tot = test_np.shape[1]\n",
    "correct_cnt = 0\n",
    "for ind in range(test_tot):\n",
    "    col_test_X = test_np[0][ind]\n",
    "    col_test_y = test_np[1][ind]\n",
    "    col_y_pred = col_clf.predict(col_test_X)\n",
    "#     print(col_test_y.shape, col_y_pred.shape)\n",
    "    acc = accuracy_score(col_test_y, col_y_pred)\n",
    "    if acc == 1.0:\n",
    "        correct_cnt+=1\n",
    "        print(ind)\n",
    "print(\"accuracy:\", correct_cnt/test_tot)\n",
    "# np.intersect1d(np.where(column_test_y==1)[0], np.where(col_y_pred==1))"
   ]
  },
  {
   "cell_type": "code",
   "execution_count": 9,
   "metadata": {},
   "outputs": [
    {
     "data": {
      "text/plain": [
       "0.8609625668449198"
      ]
     },
     "execution_count": 9,
     "metadata": {},
     "output_type": "execute_result"
    }
   ],
   "source": [
    "column_y_pred = col_clf.predict(column_test_X)\n",
    "accuracy_score(column_test_y, column_y_pred)"
   ]
  },
  {
   "cell_type": "code",
   "execution_count": 39,
   "metadata": {},
   "outputs": [
    {
     "data": {
      "text/plain": [
       "MLPClassifier(activation='relu', alpha=0.0001, batch_size='auto', beta_1=0.9,\n",
       "              beta_2=0.999, early_stopping=False, epsilon=1e-08,\n",
       "              hidden_layer_sizes=(512, 256, 64), learning_rate='constant',\n",
       "              learning_rate_init=0.001, max_fun=15000, max_iter=200,\n",
       "              momentum=0.9, n_iter_no_change=10, nesterovs_momentum=True,\n",
       "              power_t=0.5, random_state=None, shuffle=True, solver='adam',\n",
       "              tol=0.0001, validation_fraction=0.1, verbose=False,\n",
       "              warm_start=False)"
      ]
     },
     "execution_count": 39,
     "metadata": {},
     "output_type": "execute_result"
    }
   ],
   "source": [
    "col_clf"
   ]
  },
  {
   "cell_type": "code",
   "execution_count": null,
   "metadata": {},
   "outputs": [],
   "source": []
  }
 ],
 "metadata": {
  "kernelspec": {
   "display_name": "Python 3",
   "language": "python",
   "name": "python3"
  },
  "language_info": {
   "codemirror_mode": {
    "name": "ipython",
    "version": 3
   },
   "file_extension": ".py",
   "mimetype": "text/x-python",
   "name": "python",
   "nbconvert_exporter": "python",
   "pygments_lexer": "ipython3",
   "version": "3.6.5"
  }
 },
 "nbformat": 4,
 "nbformat_minor": 2
}
